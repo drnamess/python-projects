{
 "cells": [
  {
   "cell_type": "markdown",
   "id": "bea4530f",
   "metadata": {
    "id": "bea4530f"
   },
   "source": [
    "# METODOS ITERATIVOS"
   ]
  },
  {
   "cell_type": "markdown",
   "id": "12f049af",
   "metadata": {
    "id": "12f049af"
   },
   "source": [
    "## Librerias"
   ]
  },
  {
   "cell_type": "code",
   "execution_count": 2,
   "id": "87c333b2",
   "metadata": {
    "id": "87c333b2"
   },
   "outputs": [],
   "source": [
    "import math as M # constantes matematicas\n",
    "import numpy as np # arrays y funciones matematicas\n",
    "import time  # libreria para medir el tiempo de los metodo\n",
    "import matplotlib.pyplot as plt\n",
    "from tqdm import tqdm # libreria que nos permite colocar barras de carga de los procesos"
   ]
  },
  {
   "cell_type": "markdown",
   "id": "043d8ea2",
   "metadata": {
    "id": "043d8ea2"
   },
   "source": [
    "## Metodos iterativos"
   ]
  },
  {
   "cell_type": "code",
   "execution_count": 3,
   "id": "af500452",
   "metadata": {
    "id": "af500452"
   },
   "outputs": [],
   "source": [
    "import numeric_methods as nm"
   ]
  },
  {
   "cell_type": "markdown",
   "id": "63bb3e0f",
   "metadata": {
    "id": "63bb3e0f"
   },
   "source": [
    "## Funciones auxiliares"
   ]
  },
  {
   "cell_type": "code",
   "execution_count": null,
   "id": "46700819",
   "metadata": {
    "id": "46700819"
   },
   "outputs": [],
   "source": [
    "def exp(z):\n",
    "    x = z.real\n",
    "    y = z.imag\n",
    "    return (M.expm1(x)+1)*(M.cos(y) + M.sin(y)*1j)\n",
    "\n",
    "def wh_root(entry,roots):\n",
    "    for i,root in enumerate(roots):\n",
    "        if abs(entry-root) < 1e-4:\n",
    "            return i\n",
    "            break\n",
    "    return roots.size\n",
    "\n",
    "def matrix_wh_root(matrix,roots):\n",
    "    matrix = matrix.flatten()\n",
    "    root_assignation = []\n",
    "    for element in list(matrix):\n",
    "        root_assignation.append(wh_root(element,roots))\n",
    "    return root_assignation\n",
    "\n",
    "def color_map(roots_assignation,iterations,maxite):\n",
    "    N = iterations.size\n",
    "    iterations_norm = (iterations/maxite).flatten()\n",
    "    color_values = np.zeros([N,4])\n",
    "    values = matrix_wh_root(X,roots)\n",
    "    for i,v in enumerate(values):\n",
    "        if v == 0:\n",
    "            color_values[i,:] = [0,0.3+0.2*iterations_norm[i],0.95,0.6*iterations_norm[i]] # cyan\n",
    "        elif v == 1:\n",
    "            color_values[i,:] = [0.8,0.5+0.3*iterations_norm[i],0,0.6*iterations_norm[i]] # ambar\n",
    "        elif v == 2:\n",
    "            color_values[i,:] = [0.85,0,0.2+0.4*iterations_norm[i],0.6*iterations_norm[i]] # magentaa\n",
    "        else:\n",
    "            color_values[i,:] = [0,0,0,1]\n",
    "    return color_values\n",
    "def method_results(num,Domfx,Domfy,f,df,tol,maxite):\n",
    "    #esta funcion retorna los valores que necesitamos calcular de cada funcion para la elaboracion de las tablas\n",
    "    iterations = []\n",
    "    x = []\n",
    "    start = time.time()\n",
    "    with tqdm(total=Domfx.size**2) as pbar:\n",
    "        for i in list(Domfx):\n",
    "            iterations_ker = []\n",
    "            x_ker = []\n",
    "            for j in list(Domfy):\n",
    "                ite, xx = nm.Numeric_Method(num,f,df,complex(i,j),tol,maxite)\n",
    "                iterations_ker.append(ite)\n",
    "                x_ker.append(xx)\n",
    "                pbar.update(1)  # Actualizar la barra de progreso\n",
    "            iterations.append(iterations_ker)\n",
    "            x.append(x_ker)\n",
    "        iterations = np.array(iterations)\n",
    "        x = np.array(x)\n",
    "        end = time.time()\n",
    "        T = end - start\n",
    "    return iterations, x"
   ]
  },
  {
   "cell_type": "markdown",
   "id": "e2e78ba1",
   "metadata": {
    "id": "e2e78ba1"
   },
   "source": [
    "## Plotting"
   ]
  },
  {
   "cell_type": "code",
   "execution_count": null,
   "id": "012276ba",
   "metadata": {
    "id": "012276ba"
   },
   "outputs": [],
   "source": [
    "# Limites del cuadrado\n",
    "\n",
    "ax = -2.5\n",
    "bx = 2.5\n",
    "ay = -2.5\n",
    "by = 2.5\n",
    "\n",
    "# Discretizacion de los ejes\n",
    "\n",
    "resolution = 1024\n",
    "xR = np.linspace(ax,bx,resolution)\n",
    "yR = np.linspace(ay,by,resolution)\n",
    "#xx,yy = np.meshgrid(xR,yR)\n",
    "\n",
    "#Z = xx + yy*1j\n",
    "\n",
    "# Lista de funciones\n",
    "\n",
    "def func1(z):\n",
    "    return z**3 - 1\n",
    "\n",
    "def dfunc1(z):\n",
    "    return 3 * z**2\n",
    "\n",
    "def d2func1(z):\n",
    "    return 6 * z\n",
    "\n",
    "def Dfunc1(z):\n",
    "    return [dfunc1(z),d2func1(z)]\n",
    "\n",
    "#Raices de la funcion func1\n",
    "\n",
    "root1 = 1+0*1j\n",
    "root2 = exp((2/3)*M.pi*1j)\n",
    "root3 = exp((4/3)*M.pi*1j)\n",
    "roots = np.array([root1, root2, root3])\n",
    "# Datos iniciales y tolerancias\n",
    "\n",
    "tol = 1e-4 ## tol=1e-3 genera imagenes un tanto escabrosas\n",
    "maxite = 25\n",
    "\n",
    "# Metodos a implementar\n",
    "\n",
    "Methods_st = ['Nw','NwM','CaWh','DcaWh','Ha','Ch','CaNsH','Stir','Steff','Mid','TrOs','Ja','IfJa']\n",
    "#Methods_st = ['Nw']"
   ]
  },
  {
   "cell_type": "code",
   "execution_count": null,
   "id": "a8a56509",
   "metadata": {
    "id": "a8a56509",
    "outputId": "6e8638ad-b37e-419a-b5ee-574fb694e5f3"
   },
   "outputs": [
    {
     "name": "stderr",
     "output_type": "stream",
     "text": [
      "100%|█████████████████████████████████████████████████████████████████████| 1048576/1048576 [00:20<00:00, 50239.84it/s]\n"
     ]
    },
    {
     "name": "stdout",
     "output_type": "stream",
     "text": [
      "Tiempo de ejecución: 0.138957 segundos\n"
     ]
    },
    {
     "name": "stderr",
     "output_type": "stream",
     "text": [
      "100%|█████████████████████████████████████████████████████████████████████| 1048576/1048576 [00:37<00:00, 28140.33it/s]\n"
     ]
    },
    {
     "name": "stdout",
     "output_type": "stream",
     "text": [
      "Tiempo de ejecución: 0.230002 segundos\n"
     ]
    },
    {
     "name": "stderr",
     "output_type": "stream",
     "text": [
      "100%|█████████████████████████████████████████████████████████████████████| 1048576/1048576 [00:55<00:00, 18743.73it/s]\n"
     ]
    },
    {
     "name": "stdout",
     "output_type": "stream",
     "text": [
      "Tiempo de ejecución: 0.157005 segundos\n"
     ]
    },
    {
     "name": "stderr",
     "output_type": "stream",
     "text": [
      "100%|█████████████████████████████████████████████████████████████████████| 1048576/1048576 [00:34<00:00, 29991.28it/s]\n"
     ]
    },
    {
     "name": "stdout",
     "output_type": "stream",
     "text": [
      "Tiempo de ejecución: 0.130959 segundos\n"
     ]
    },
    {
     "name": "stderr",
     "output_type": "stream",
     "text": [
      "100%|█████████████████████████████████████████████████████████████████████| 1048576/1048576 [00:15<00:00, 68822.93it/s]\n"
     ]
    },
    {
     "name": "stdout",
     "output_type": "stream",
     "text": [
      "Tiempo de ejecución: 0.156249 segundos\n"
     ]
    },
    {
     "name": "stderr",
     "output_type": "stream",
     "text": [
      "100%|█████████████████████████████████████████████████████████████████████| 1048576/1048576 [00:26<00:00, 40100.59it/s]\n"
     ]
    },
    {
     "name": "stdout",
     "output_type": "stream",
     "text": [
      "Tiempo de ejecución: 0.129991 segundos\n"
     ]
    },
    {
     "name": "stderr",
     "output_type": "stream",
     "text": [
      "100%|█████████████████████████████████████████████████████████████████████| 1048576/1048576 [00:14<00:00, 74153.20it/s]\n"
     ]
    },
    {
     "name": "stdout",
     "output_type": "stream",
     "text": [
      "Tiempo de ejecución: 0.124099 segundos\n"
     ]
    },
    {
     "name": "stderr",
     "output_type": "stream",
     "text": [
      "100%|█████████████████████████████████████████████████████████████████████| 1048576/1048576 [01:08<00:00, 15354.21it/s]\n"
     ]
    },
    {
     "name": "stdout",
     "output_type": "stream",
     "text": [
      "Tiempo de ejecución: 0.129884 segundos\n"
     ]
    },
    {
     "name": "stderr",
     "output_type": "stream",
     "text": [
      "100%|█████████████████████████████████████████████████████████████████████| 1048576/1048576 [01:21<00:00, 12802.58it/s]\n"
     ]
    },
    {
     "name": "stdout",
     "output_type": "stream",
     "text": [
      "Tiempo de ejecución: 0.141994 segundos\n"
     ]
    },
    {
     "name": "stderr",
     "output_type": "stream",
     "text": [
      "100%|█████████████████████████████████████████████████████████████████████| 1048576/1048576 [00:22<00:00, 46655.89it/s]\n"
     ]
    },
    {
     "name": "stdout",
     "output_type": "stream",
     "text": [
      "Tiempo de ejecución: 0.118006 segundos\n"
     ]
    },
    {
     "name": "stderr",
     "output_type": "stream",
     "text": [
      "100%|█████████████████████████████████████████████████████████████████████| 1048576/1048576 [00:23<00:00, 43901.03it/s]\n"
     ]
    },
    {
     "name": "stdout",
     "output_type": "stream",
     "text": [
      "Tiempo de ejecución: 0.123027 segundos\n"
     ]
    },
    {
     "name": "stderr",
     "output_type": "stream",
     "text": [
      "100%|█████████████████████████████████████████████████████████████████████| 1048576/1048576 [00:14<00:00, 72388.05it/s]\n"
     ]
    },
    {
     "name": "stdout",
     "output_type": "stream",
     "text": [
      "Tiempo de ejecución: 0.113934 segundos\n"
     ]
    },
    {
     "name": "stderr",
     "output_type": "stream",
     "text": [
      "100%|█████████████████████████████████████████████████████████████████████| 1048576/1048576 [00:26<00:00, 38963.99it/s]\n"
     ]
    },
    {
     "name": "stdout",
     "output_type": "stream",
     "text": [
      "Tiempo de ejecución: 0.140327 segundos\n"
     ]
    }
   ],
   "source": [
    "# Medidas calculadas para una imagen sin cruces o ruidos. 300 dpi, 1024^2 puntos y s=0.5\n",
    "mm = 12.301\n",
    "# Generamos las coordenadas x, y\n",
    "x , y = np.meshgrid(xR,yR)\n",
    "for i,name in enumerate(Methods_st):\n",
    "    Iterations, X = method_results(i,xR,yR,func1,Dfunc1,tol,maxite)\n",
    "    values_colors = color_map(X,Iterations,maxite)\n",
    "    # Creamos una figura y un conjunto de ejes\n",
    "    fig, ax = plt.subplots(figsize=(mm,mm),dpi=300)\n",
    "    # Ajustamos el tamaño de fuente de las etiquetas en los ejes x e y\n",
    "    plt.xticks(fontsize=36)  # Tamaño de fuente para las etiquetas del eje x\n",
    "    plt.yticks(fontsize=36)  # Tamaño de fuente para las etiquetas del eje y\n",
    "    # Trazamos los puntos rotadas 90 grados a la derecha\n",
    "    inicio = time.time()\n",
    "    ax.scatter(y, -x,marker=',', s=0.25, c=values_colors)\n",
    "    plt.axis('equal')\n",
    "    fin = time.time()\n",
    "    tiempo = fin - inicio\n",
    "    # Mostramos la barra de colores\n",
    "    #cbar = plt.colorbar(scatter)\n",
    "    # Guardamos la figura en formato PNG\n",
    "    file_name = f\"{name}.png\"\n",
    "    plt.savefig(file_name, dpi=300, format='png')\n",
    "    plt.close()\n",
    "    # Imprimimos el tiempo de impresion de los puntos en segundos\n",
    "    print(\"Tiempo de ejecución: {:.6f} segundos\".format(tiempo))"
   ]
  }
 ],
 "metadata": {
  "colab": {
   "provenance": []
  },
  "kernelspec": {
   "display_name": "Python 3 (ipykernel)",
   "language": "python",
   "name": "python3"
  },
  "language_info": {
   "codemirror_mode": {
    "name": "ipython",
    "version": 3
   },
   "file_extension": ".py",
   "mimetype": "text/x-python",
   "name": "python",
   "nbconvert_exporter": "python",
   "pygments_lexer": "ipython3",
   "version": "3.11.7"
  }
 },
 "nbformat": 4,
 "nbformat_minor": 5
}
