{
 "cells": [
  {
   "cell_type": "markdown",
   "id": "d5a8f214",
   "metadata": {
    "id": "d5a8f214"
   },
   "source": [
    "# METODOS NUMERICOS"
   ]
  },
  {
   "cell_type": "markdown",
   "id": "b2c4a918",
   "metadata": {
    "id": "b2c4a918"
   },
   "source": [
    "## Preambulo"
   ]
  },
  {
   "cell_type": "markdown",
   "id": "f22dddae",
   "metadata": {
    "id": "f22dddae"
   },
   "source": [
    "### Librerias"
   ]
  },
  {
   "cell_type": "code",
   "execution_count": 4,
   "id": "05fa83b3",
   "metadata": {
    "executionInfo": {
     "elapsed": 220,
     "status": "ok",
     "timestamp": 1687822808179,
     "user": {
      "displayName": "Kevin Marroquín",
      "userId": "11641647230183677261"
     },
     "user_tz": 300
    },
    "id": "05fa83b3"
   },
   "outputs": [],
   "source": [
    "import math as M # constantes matematicas\n",
    "#import cmath as Cm # constantes matematicas complejas\n",
    "import numpy as np # arrays y funciones matematicas\n",
    "import time  # libreria para medir el tiempo de los metodos\n",
    "from tqdm import tqdm # libreria que nos permite colocar barras de carga de los procesos\n",
    "import pandas as pd #libreria para generar las tablas\n",
    "\n",
    "# NOTA: VERIFICAR QUE TODAS LAS LIBRERIAS ESTEN INSTALADAS EN SU COMPUTADOR: TQDM POR EJEMPLO"
   ]
  },
  {
   "cell_type": "code",
   "execution_count": 5,
   "id": "3927228a",
   "metadata": {
    "executionInfo": {
     "elapsed": 5,
     "status": "ok",
     "timestamp": 1687822808543,
     "user": {
      "displayName": "Kevin Marroquín",
      "userId": "11641647230183677261"
     },
     "user_tz": 300
    },
    "id": "3927228a"
   },
   "outputs": [],
   "source": [
    "# inicio = time.time()\n",
    "# fin = time.time()\n",
    "# print(fin - inicio)"
   ]
  },
  {
   "cell_type": "markdown",
   "id": "3b7ef48f",
   "metadata": {
    "id": "3b7ef48f"
   },
   "source": [
    "### Datos iniciales"
   ]
  },
  {
   "cell_type": "code",
   "execution_count": 6,
   "id": "d7224521",
   "metadata": {
    "executionInfo": {
     "elapsed": 5,
     "status": "ok",
     "timestamp": 1687822808543,
     "user": {
      "displayName": "Kevin Marroquín",
      "userId": "11641647230183677261"
     },
     "user_tz": 300
    },
    "id": "d7224521"
   },
   "outputs": [],
   "source": [
    "#Raices de la funcion func1 y func2\n",
    "root1 = 1+0.0*1j\n",
    "root2 = np.exp((2/3)*M.pi*1j)\n",
    "root3 = np.exp((4/3)*M.pi*1j) # UTilizamos esta raiz para R_s\n",
    "roots = np.array([root1, root2, root3])\n",
    "# Datos iniciales y tolerancias\n",
    "tol = 1e-8\n",
    "maxite = 40"
   ]
  },
  {
   "cell_type": "markdown",
   "id": "3a78bc47",
   "metadata": {
    "id": "3a78bc47"
   },
   "source": [
    "### Funciones auxiliares"
   ]
  },
  {
   "cell_type": "code",
   "execution_count": 28,
   "id": "85246496",
   "metadata": {
    "executionInfo": {
     "elapsed": 209,
     "status": "ok",
     "timestamp": 1687825242439,
     "user": {
      "displayName": "Kevin Marroquín",
      "userId": "11641647230183677261"
     },
     "user_tz": 300
    },
    "id": "85246496"
   },
   "outputs": [],
   "source": [
    "# Simplificamos la expresion de las funciones que usaremos mas adelante\n",
    "def exp(z):\n",
    "    x = z.real\n",
    "    y = z.imag\n",
    "    return (M.expm1(x)+1)*(M.cos(y) + M.sin(y)*1j)\n",
    "# La funcion M.expm1() solo toma variables punto flotante y mas estable que np.exp.() en valores cercanos al cero\n",
    "def sin(z):\n",
    "    return np.sin(z)\n",
    "\n",
    "def cos(z):\n",
    "    return np.cos(z)\n",
    "\n",
    "def matrix_elem_sum(matrix):\n",
    "    \"\"\"\n",
    "    Retorna la suma total de las entradas de la matriz\n",
    "    \"\"\"\n",
    "    matrix = matrix.flatten()\n",
    "    sum_ = 0\n",
    "    for entry in list(matrix):\n",
    "        sum_ += entry\n",
    "    return sum_\n",
    "def count_not_conv_points(matrix,roots):\n",
    "    \"\"\"\n",
    "    Retorna el numero de entradas de la matriz que no son iguales a\n",
    "    ninguna de la raices del arreglo roots.\n",
    "    \"\"\"\n",
    "    count = 0\n",
    "    matrix = matrix.flatten()\n",
    "    for entry in list(matrix):\n",
    "        if (abs(entry*np.ones(roots.size)-roots) > 1e-4).all():\n",
    "            count += 1\n",
    "    return count"
   ]
  },
  {
   "cell_type": "markdown",
   "id": "07fb44b5",
   "metadata": {
    "id": "07fb44b5"
   },
   "source": [
    "### Funciones y derivadas"
   ]
  },
  {
   "cell_type": "code",
   "execution_count": 8,
   "id": "f226dc61",
   "metadata": {
    "executionInfo": {
     "elapsed": 35,
     "status": "ok",
     "timestamp": 1687822808817,
     "user": {
      "displayName": "Kevin Marroquín",
      "userId": "11641647230183677261"
     },
     "user_tz": 300
    },
    "id": "f226dc61"
   },
   "outputs": [],
   "source": [
    "# Lista de funciones y sus derivadas\n",
    "# Todas estas funciones son escalares y no son funciones vectorizadas\n",
    "# Al vectorizar las funciones los tiempos de calculo son mayores en estos casos\n",
    "def func1(z):\n",
    "    return z**3 - 1\n",
    "\n",
    "def dfunc1(z):\n",
    "    return 3 * z**2\n",
    "\n",
    "def d2func1(z):\n",
    "    return 6 * z\n",
    "\n",
    "def func2(z):\n",
    "    r = 0.01\n",
    "    return exp(sin(z)*r)*func1(z)\n",
    "\n",
    "def dfunc2(z):\n",
    "    r = 0.01\n",
    "    return exp(sin(z)*r)*(r*cos(z)*func1(z) + dfunc1(z))\n",
    "\n",
    "def d2func2(z):\n",
    "    return exp(sin(z)*0.01)*(((0.01*cos(z))**2 - 0.01*sin(z))*func1(z) + 0.02 * cos(z) * dfunc1(z) + d2func1(z))\n",
    "## Para simplificar el codigo se opta por utilizar un array con todas las derivadas que el metodo necesite de la funcion\n",
    "def Dfunc1(z):\n",
    "    return [dfunc1(z),d2func1(z)]\n",
    "\n",
    "def Dfunc2(z):\n",
    "    return [dfunc2(z),d2func2(z)]"
   ]
  },
  {
   "cell_type": "markdown",
   "id": "88229df6",
   "metadata": {
    "id": "88229df6"
   },
   "source": [
    "## IMPLEMENTACION DE LOS METODOS"
   ]
  },
  {
   "cell_type": "code",
   "execution_count": 9,
   "id": "OvMW8I4nv4gX",
   "metadata": {
    "executionInfo": {
     "elapsed": 34,
     "status": "ok",
     "timestamp": 1687822808817,
     "user": {
      "displayName": "Kevin Marroquín",
      "userId": "11641647230183677261"
     },
     "user_tz": 300
    },
    "id": "OvMW8I4nv4gX"
   },
   "outputs": [],
   "source": [
    "def Newton_classicroot(func, dfunc, x0, root, tol, maxite):\n",
    "    \"\"\"\n",
    "    Implementación del método de Newton para encontrar las raíces de una función en números complejos.\n",
    "\n",
    "    Parámetros:\n",
    "    - func: la función dada.\n",
    "    - dfunc: las derivadas de la función f.\n",
    "    - x0: valor inicial para comenzar la iteración.\n",
    "    - tol: tolerancia para la convergencia.\n",
    "    - maxite: número máximo de iteraciones permitidas.\n",
    "\n",
    "    Retorna:\n",
    "    - Las iteraciones del metodo usando x0 y la raiz encontrada x\n",
    "    \"\"\"\n",
    "    x = x0\n",
    "    error = 1\n",
    "    ite = 0\n",
    "    while (error > tol) and (ite < maxite):\n",
    "        try:\n",
    "            x = x - func(x)/dfunc(x)[0]\n",
    "            error = abs(func(x)) # abs(func(x)) abs(root - x)\n",
    "            ite += 1\n",
    "        except Exception:\n",
    "            ite = maxite # Indicamos que no hay convergencia a partir del x0\n",
    "            break\n",
    "    return ite,x"
   ]
  },
  {
   "cell_type": "code",
   "execution_count": 29,
   "id": "ac0ac15c",
   "metadata": {
    "executionInfo": {
     "elapsed": 270,
     "status": "ok",
     "timestamp": 1687825286611,
     "user": {
      "displayName": "Kevin Marroquín",
      "userId": "11641647230183677261"
     },
     "user_tz": 300
    },
    "id": "ac0ac15c"
   },
   "outputs": [],
   "source": [
    "def Newton_classicroot(func, dfunc, x0, root, tol, maxite):\n",
    "    \"\"\"\n",
    "    Implementación del método de Newton para encontrar las raíces de una función en números complejos.\n",
    "\n",
    "    Parámetros:\n",
    "    - func: la función dada.\n",
    "    - dfunc: las derivadas de la función f.\n",
    "    - x0: valor inicial para comenzar la iteración.\n",
    "    - tol: tolerancia para la convergencia.\n",
    "    - maxite: número máximo de iteraciones permitidas.\n",
    "\n",
    "    Retorna:\n",
    "    - Las iteraciones del metodo usando x0 y la raiz encontrada x\n",
    "    \"\"\"\n",
    "    x = x0\n",
    "    for ite in range(maxite+1):\n",
    "        try:\n",
    "            if abs(root - x) < tol: # abs(func(x)) abs(root - x)\n",
    "                return ite, x\n",
    "            x = x - func(x)/dfunc(x)[0]\n",
    "        except Exception:\n",
    "            ite = maxite # Indicamos que no hay convergencia a partir del x0\n",
    "            break\n",
    "    return ite, x"
   ]
  },
  {
   "cell_type": "markdown",
   "id": "025eeba9",
   "metadata": {
    "id": "025eeba9"
   },
   "source": [
    "### Newton clasico"
   ]
  },
  {
   "cell_type": "markdown",
   "id": "d041a1fb",
   "metadata": {
    "id": "d041a1fb"
   },
   "source": [
    "### Newton raices multiples"
   ]
  },
  {
   "cell_type": "code",
   "execution_count": 11,
   "id": "2e397a7e",
   "metadata": {
    "executionInfo": {
     "elapsed": 30,
     "status": "ok",
     "timestamp": 1687822808819,
     "user": {
      "displayName": "Kevin Marroquín",
      "userId": "11641647230183677261"
     },
     "user_tz": 300
    },
    "id": "2e397a7e"
   },
   "outputs": [],
   "source": [
    "def Newton_multipleroot(func,dfunc,x0,root,tol,maxite):\n",
    "    \"\"\"\n",
    "    Implementación del método de Newton para encontrar las raíces complejas multiples.\n",
    "\n",
    "    Parámetros:\n",
    "    - func: la función dada.\n",
    "    - dfunc: las derivadas de la función f.\n",
    "    - x0: valor inicial para comenzar la iteración.\n",
    "    - tol: tolerancia para la convergencia.\n",
    "    - maxite: número máximo de iteraciones permitidas.\n",
    "\n",
    "    Retorna:\n",
    "    - Las iteraciones del metodo usando x0 y la raiz encontrada x\n",
    "    \"\"\"\n",
    "    x = x0\n",
    "    for ite in range(maxite+1):\n",
    "        try:\n",
    "            if abs(func(x)) < tol: # abs(func(x)) abs(root - x)\n",
    "                return ite, x\n",
    "            x = x - (func(x)*dfunc(x)[0])/((dfunc(x)[0])**2 - func(x)*dfunc(x)[1])\n",
    "        except Exception:\n",
    "                ite = maxite # Indicamos que no hay convergencia a partir del x0\n",
    "                break\n",
    "    return ite, x"
   ]
  },
  {
   "cell_type": "markdown",
   "id": "eed4c582",
   "metadata": {
    "id": "eed4c582"
   },
   "source": [
    "### Aceleracion convexa de Wittaker"
   ]
  },
  {
   "cell_type": "code",
   "execution_count": 12,
   "id": "4768883f",
   "metadata": {
    "executionInfo": {
     "elapsed": 27,
     "status": "ok",
     "timestamp": 1687822808819,
     "user": {
      "displayName": "Kevin Marroquín",
      "userId": "11641647230183677261"
     },
     "user_tz": 300
    },
    "id": "4768883f"
   },
   "outputs": [],
   "source": [
    "def Convex_acc_Wh(func,dfunc,x0,root,tol,maxite):\n",
    "    \"\"\"\n",
    "    Implementación del método de Newton para encontrar las raíces complejas multiples.\n",
    "\n",
    "    Parámetros:\n",
    "    - func: la función dada.\n",
    "    - dfunc: las derivadas de la función f.\n",
    "    - x0: valor inicial para comenzar la iteración.\n",
    "    - tol: tolerancia para la convergencia.\n",
    "    - maxite: número máximo de iteraciones permitidas.\n",
    "\n",
    "    Retorna:\n",
    "    - Las iteraciones del metodo usando x0 y la raiz encontrada x\n",
    "    \"\"\"\n",
    "    x = x0\n",
    "    for ite in range(maxite+1):\n",
    "        try:\n",
    "            if abs(func(x)) < tol: # abs(func(x)) abs(root -x)\n",
    "                return ite, x\n",
    "            fx = func(x)\n",
    "            dfx = dfunc(x)[0]\n",
    "            d2fx = dfunc(x)[1]\n",
    "            L = (fx * d2fx) / (dfx)**2\n",
    "            x = x - (fx/(2*dfx))*(2-L)\n",
    "        except Exception:\n",
    "                ite = maxite # Indicamos que no hay convergencia a partir del x0\n",
    "                break\n",
    "    return ite, x"
   ]
  },
  {
   "cell_type": "markdown",
   "id": "9d3c6a0f",
   "metadata": {
    "id": "9d3c6a0f"
   },
   "source": [
    "### Aceleracion doble de Wittaker"
   ]
  },
  {
   "cell_type": "code",
   "execution_count": 13,
   "id": "7d9e7616",
   "metadata": {
    "executionInfo": {
     "elapsed": 27,
     "status": "ok",
     "timestamp": 1687822808820,
     "user": {
      "displayName": "Kevin Marroquín",
      "userId": "11641647230183677261"
     },
     "user_tz": 300
    },
    "id": "7d9e7616"
   },
   "outputs": [],
   "source": [
    "def Double_convex_acc_Wh(func,dfunc,x0,root,tol,maxite):\n",
    "    \"\"\"\n",
    "    Implementación del método de Newton para encontrar las raíces complejas multiples.\n",
    "\n",
    "    Parámetros:\n",
    "    - func: la función dada.\n",
    "    - dfunc: las derivadas de la función f.\n",
    "    - x0: valor inicial para comenzar la iteración.\n",
    "    - tol: tolerancia para la convergencia.\n",
    "    - maxite: número máximo de iteraciones permitidas.\n",
    "\n",
    "    Retorna:\n",
    "    - Las iteraciones del metodo usando x0 y la raiz encontrada x\n",
    "    \"\"\"\n",
    "    x = x0\n",
    "    for ite in range(maxite+1):\n",
    "        try:\n",
    "            if abs(func(x)) < tol: # abs(func(x)) abs(root -x)\n",
    "                return ite, x\n",
    "            fx = func(x)\n",
    "            dfx = dfunc(x)[0]\n",
    "            d2fx = dfunc(x)[1]\n",
    "            L = (fx * d2fx) / (dfx)**2\n",
    "            x = x - (fx/(4*dfx))*(2-L + (4+2*L)/(2-L*(2-L)))\n",
    "        except Exception:\n",
    "                ite = maxite # Indicamos que no hay convergencia a partir del x0\n",
    "                break\n",
    "    return ite, x"
   ]
  },
  {
   "cell_type": "code",
   "execution_count": 14,
   "id": "01456bc2",
   "metadata": {
    "executionInfo": {
     "elapsed": 26,
     "status": "ok",
     "timestamp": 1687822808820,
     "user": {
      "displayName": "Kevin Marroquín",
      "userId": "11641647230183677261"
     },
     "user_tz": 300
    },
    "id": "01456bc2"
   },
   "outputs": [],
   "source": [
    "def Halley(func,dfunc,x0,root,tol,maxite):\n",
    "    x = x0\n",
    "    for ite in range(maxite+1):\n",
    "        try:\n",
    "            if abs(func(x)) < tol: # abs(func(x)) abs(root -x)\n",
    "                return ite, x\n",
    "            fx = func(x)\n",
    "            dfx = dfunc(x)[0]\n",
    "            d2fx = dfunc(x)[1]\n",
    "            L = (fx * d2fx) / (dfx)**2\n",
    "            x = x - (fx/dfx) * (2/(2 - L))\n",
    "        except Exception:\n",
    "                ite = maxite # Indicamos que no hay convergencia a partir del x0\n",
    "                break\n",
    "    return ite, x"
   ]
  },
  {
   "cell_type": "code",
   "execution_count": 15,
   "id": "37716216",
   "metadata": {
    "executionInfo": {
     "elapsed": 26,
     "status": "ok",
     "timestamp": 1687822808821,
     "user": {
      "displayName": "Kevin Marroquín",
      "userId": "11641647230183677261"
     },
     "user_tz": 300
    },
    "id": "37716216"
   },
   "outputs": [],
   "source": [
    "def Chebyshev(func,dfunc,x0,root,tol,maxite):\n",
    "    x = x0\n",
    "    for ite in range(maxite+1):\n",
    "        try:\n",
    "            if abs(func(x)) < tol: # abs(func(x)) abs(root -x)\n",
    "                return ite, x\n",
    "            fx = func(x)\n",
    "            dfx = dfunc(x)[0]\n",
    "            d2fx = dfunc(x)[1]\n",
    "            L = (fx * d2fx) / (dfx)**2\n",
    "            x = x - (fx/dfx) * (1 + L/2)\n",
    "        except Exception:\n",
    "                ite = maxite # Indicamos que no hay convergencia a partir del x0\n",
    "                break\n",
    "    return ite, x"
   ]
  },
  {
   "cell_type": "code",
   "execution_count": 16,
   "id": "43e5905c",
   "metadata": {
    "executionInfo": {
     "elapsed": 26,
     "status": "ok",
     "timestamp": 1687822808821,
     "user": {
      "displayName": "Kevin Marroquín",
      "userId": "11641647230183677261"
     },
     "user_tz": 300
    },
    "id": "43e5905c"
   },
   "outputs": [],
   "source": [
    "def ConvexN_sHalley(func,dfunc,x0,root,tol,maxite):\n",
    "    x = x0\n",
    "    for ite in range(maxite+1):\n",
    "        try:\n",
    "            if abs(func(x)) < tol: # abs(func(x)) abs(root -x)\n",
    "                return ite, x\n",
    "            fx = func(x)\n",
    "            dfx = dfunc(x)[0]\n",
    "            d2fx = dfunc(x)[1]\n",
    "            L = (fx * d2fx) / (dfx)**2\n",
    "            x = x - (fx/(2*dfx)) * (2 - L)/(1 - L)\n",
    "        except Exception:\n",
    "                ite = maxite # Indicamos que no hay convergencia a partir del x0\n",
    "                break\n",
    "    return ite, x"
   ]
  },
  {
   "cell_type": "code",
   "execution_count": 17,
   "id": "f38b9e00",
   "metadata": {
    "executionInfo": {
     "elapsed": 26,
     "status": "ok",
     "timestamp": 1687822808822,
     "user": {
      "displayName": "Kevin Marroquín",
      "userId": "11641647230183677261"
     },
     "user_tz": 300
    },
    "id": "f38b9e00"
   },
   "outputs": [],
   "source": [
    "def Stir(func,dfunc,x0,root,tol,maxite):\n",
    "    x = x0\n",
    "    for ite in range(maxite+1):\n",
    "        try:\n",
    "            if abs(func(x)) < tol: # abs(func(x)) abs(root -x)\n",
    "                return ite, x\n",
    "            x = x - func(x)/dfunc(x-func(x))[0]\n",
    "        except Exception:\n",
    "                ite = maxite # Indicamos que no hay convergencia a partir del x0\n",
    "                break\n",
    "    return ite, x"
   ]
  },
  {
   "cell_type": "code",
   "execution_count": 18,
   "id": "9f2306ee",
   "metadata": {
    "executionInfo": {
     "elapsed": 25,
     "status": "ok",
     "timestamp": 1687822808822,
     "user": {
      "displayName": "Kevin Marroquín",
      "userId": "11641647230183677261"
     },
     "user_tz": 300
    },
    "id": "9f2306ee"
   },
   "outputs": [],
   "source": [
    "def Steffensen(func,dfunc,x0,root,tol,maxite):\n",
    "    x = x0\n",
    "    for ite in range(maxite+1):\n",
    "        try:\n",
    "            if abs(func(x)) < tol: # abs(func(x)) abs(root -x)\n",
    "                return ite, x\n",
    "            fx = func(x)\n",
    "            gx = (func(x + func(x)) - func(x))/func(x)\n",
    "            x = x - fx/gx\n",
    "        except Exception:\n",
    "                ite = maxite # Indicamos que no hay convergencia a partir del x0\n",
    "                break\n",
    "    return ite, x"
   ]
  },
  {
   "cell_type": "code",
   "execution_count": 19,
   "id": "3b232e7f",
   "metadata": {
    "executionInfo": {
     "elapsed": 26,
     "status": "ok",
     "timestamp": 1687822808823,
     "user": {
      "displayName": "Kevin Marroquín",
      "userId": "11641647230183677261"
     },
     "user_tz": 300
    },
    "id": "3b232e7f"
   },
   "outputs": [],
   "source": [
    "def Midpoint_Mth(func,dfunc,x0,root,tol,maxite):\n",
    "    x = x0\n",
    "    for ite in range(maxite+1):\n",
    "        try:\n",
    "            if abs(func(x)) < tol: # abs(func(x)) abs(root -x)\n",
    "                return ite, x\n",
    "            fx = func(x)\n",
    "            dfx = dfunc(x)[0]\n",
    "            x = x - fx/dfunc(x - fx/(2*dfx))[0]\n",
    "        except Exception:\n",
    "                ite = maxite # Indicamos que no hay convergencia a partir del x0\n",
    "                break\n",
    "    return ite, x"
   ]
  },
  {
   "cell_type": "code",
   "execution_count": 20,
   "id": "757c33e2",
   "metadata": {
    "executionInfo": {
     "elapsed": 25,
     "status": "ok",
     "timestamp": 1687822808823,
     "user": {
      "displayName": "Kevin Marroquín",
      "userId": "11641647230183677261"
     },
     "user_tz": 300
    },
    "id": "757c33e2"
   },
   "outputs": [],
   "source": [
    "def Traub_Ostro(func,dfunc,x0,root,tol,maxite):\n",
    "    x = x0\n",
    "    for ite in range(maxite+1):\n",
    "        try:\n",
    "            if abs(func(x)) < tol: # abs(func(x)) abs(root -x)\n",
    "                return ite, x\n",
    "            fx = func(x)\n",
    "            dfx = dfunc(x)[0]\n",
    "            ux = fx/dfx\n",
    "            x = x - ux*((func(x-ux)-fx)/(2*func(x-ux)-fx))\n",
    "        except Exception:\n",
    "                ite = maxite # Indicamos que no hay convergencia a partir del x0\n",
    "                break\n",
    "    return ite, x"
   ]
  },
  {
   "cell_type": "code",
   "execution_count": 21,
   "id": "8d2f638c",
   "metadata": {
    "executionInfo": {
     "elapsed": 29,
     "status": "ok",
     "timestamp": 1687822808828,
     "user": {
      "displayName": "Kevin Marroquín",
      "userId": "11641647230183677261"
     },
     "user_tz": 300
    },
    "id": "8d2f638c"
   },
   "outputs": [],
   "source": [
    "def Jarrat(func,dfunc,x0,root,tol,maxite):\n",
    "    x = x0\n",
    "    for ite in range(maxite+1):\n",
    "        try:\n",
    "            if abs(func(x)) < tol: # abs(func(x)) abs(root -x)\n",
    "                return ite, x\n",
    "            fx = func(x)\n",
    "            dfx = dfunc(x)[0]\n",
    "            ux = fx/dfx\n",
    "            x = x - 0.5*ux + fx/(dfx - 3*dfunc(x-(2/3)*ux)[0])\n",
    "        except Exception:\n",
    "                ite = maxite # Indicamos que no hay convergencia a partir del x0\n",
    "                break\n",
    "    return ite, x"
   ]
  },
  {
   "cell_type": "code",
   "execution_count": 22,
   "id": "1b8687a0",
   "metadata": {
    "executionInfo": {
     "elapsed": 31,
     "status": "ok",
     "timestamp": 1687822808830,
     "user": {
      "displayName": "Kevin Marroquín",
      "userId": "11641647230183677261"
     },
     "user_tz": 300
    },
    "id": "1b8687a0"
   },
   "outputs": [],
   "source": [
    "def Inverse_Jarrat(func,dfunc,x0,root,tol,maxite):\n",
    "    x = x0\n",
    "    for ite in range(maxite+1):\n",
    "        try:\n",
    "            if abs(func(x)) < tol: # abs(func(x)) abs(root -x)\n",
    "                return ite, x\n",
    "            fx = func(x)\n",
    "            dfx = dfunc(x)[0]\n",
    "            ux = fx/dfx\n",
    "            hx = (dfunc(x-(2/3)*ux)[0] - dfx)/dfx\n",
    "            x = x - ux + 0.75*ux*hx*(1 - 1.5*hx)\n",
    "        except Exception:\n",
    "                ite = maxite # Indicamos que no hay convergencia a partir del x0\n",
    "                break\n",
    "    return ite, x"
   ]
  },
  {
   "cell_type": "markdown",
   "id": "380ffdf6",
   "metadata": {
    "id": "380ffdf6"
   },
   "source": [
    "## OBTENCION DE LAS TABLAS"
   ]
  },
  {
   "cell_type": "markdown",
   "id": "bd5f4efc",
   "metadata": {
    "id": "bd5f4efc"
   },
   "source": [
    "### Funciones auxiliares para generar tablas"
   ]
  },
  {
   "cell_type": "code",
   "execution_count": 23,
   "id": "ae992b33",
   "metadata": {
    "executionInfo": {
     "elapsed": 34,
     "status": "ok",
     "timestamp": 1687822808833,
     "user": {
      "displayName": "Kevin Marroquín",
      "userId": "11641647230183677261"
     },
     "user_tz": 300
    },
    "id": "ae992b33"
   },
   "outputs": [],
   "source": [
    "def parameters_values_method(method,Domfx,Domfy,func,dfunc,roots,tol,maxite):\n",
    "    \"\"\"\n",
    "    Implementación de una funcion auxiliar para generar los parametros numericos restantes de las tablas\n",
    "    del paper.\n",
    "\n",
    "    Parámetros:\n",
    "    - method: metodo de la cual queremos obtener sus parametros.\n",
    "    - func: la función dada.\n",
    "    - dfunc: las derivadas de la función f.\n",
    "    - roots: arreglo de las raices de la funcion f\n",
    "    - x0: valor inicial para comenzar la iteración.\n",
    "    - tol: tolerancia para la convergencia.\n",
    "    - maxite: número máximo de iteraciones permitidas.\n",
    "\n",
    "    Retorna:\n",
    "    - NC: porcentaje de total puntos evaluados para los cuales el metodo no converge.\n",
    "    - IP: iteraciones totales/ total de puntos.\n",
    "    - T: tiempo de ejecucion del metodo.\n",
    "    - PS: puntos totales/ tiempo de ejecucion.\n",
    "    - IS: iteraciones totales / tiempo de ejecucion.\n",
    "    - x: matrix de los puntos de convergencia del metodo sobre cada elemento en Domf.\n",
    "    - iterations: matrix de las iteraciones del metodo sobre cada elemento en Domf.\n",
    "    \"\"\"\n",
    "    old_settings = np.seterr(all='ignore') # Desactivamos todas las alertas de la libreria Numpy\n",
    "    N = Domfx.size\n",
    "    total_points = N**2\n",
    "    iterations = []\n",
    "    x = []\n",
    "    with tqdm(total=total_points) as pbar:\n",
    "        start = time.time()\n",
    "        for i in list(Domfx):\n",
    "            for j in list(Domfy):\n",
    "                ite, xx = method(func,dfunc,complex(i,j),roots[1],tol,maxite)\n",
    "                iterations.append(ite)\n",
    "                x.append(xx)\n",
    "                pbar.update(1)  # Actualizar la barra de progreso\n",
    "        end = time.time()\n",
    "    x = np.array(x)\n",
    "    iterations = np.array(iterations)\n",
    "    total_iterations = matrix_elem_sum(iterations)\n",
    "    T = end - start\n",
    "    NC = (count_not_conv_points(x,roots))/total_points\n",
    "    IP = total_iterations/total_points\n",
    "    PS = total_points/T\n",
    "    IS = total_iterations/T\n",
    "    np.seterr(**old_settings)\n",
    "    return np.array([NC,IP,T,PS,IS])"
   ]
  },
  {
   "cell_type": "markdown",
   "id": "614bba01",
   "metadata": {
    "id": "614bba01"
   },
   "source": [
    "## Tablas R_s y R_b"
   ]
  },
  {
   "cell_type": "code",
   "execution_count": 24,
   "id": "af664568",
   "metadata": {
    "executionInfo": {
     "elapsed": 36,
     "status": "ok",
     "timestamp": 1687822808836,
     "user": {
      "displayName": "Kevin Marroquín",
      "userId": "11641647230183677261"
     },
     "user_tz": 300
    },
    "id": "af664568"
   },
   "outputs": [],
   "source": [
    "#Numero de puntos\n",
    "Points = 1024 # Numero de prueba, pero para el computo final seria con 1024\n",
    "#Creacion de R_s\n",
    "xRs = np.linspace(-0.6,-0.4,Points)\n",
    "yRs = np.linspace(0.75,0.95,Points)\n",
    "#xxRs, yyRs = np.meshgrid(xRs,yRs) #Mallado de Rs\n",
    "#Creacion de R_b\n",
    "xRb = np.linspace(-2.5,2.5, Points)\n",
    "#xxRb, yyRb = np.meshgrid(xRb,xRb) #Mallado de Rb\n",
    "\n",
    "#Dominios Rs y Rb\n",
    "#Rs = xxRs + yyRs*1j\n",
    "#Rb = xxRb + yyRb*1j\n",
    "\n",
    "#Metodos implementados\n",
    "Methods = np.array((Newton_multipleroot,Convex_acc_Wh,Double_convex_acc_Wh,Halley,Chebyshev,ConvexN_sHalley,Stir,Steffensen,Midpoint_Mth,Traub_Ostro,Jarrat,Inverse_Jarrat))\n",
    "Methods_st = ['Nw','NwM','CaWh','DcaWh','Ha','Ch','CaN/sH','Stir','Steff','Mid','Tr-Os','Ja','IfJa']\n",
    "Parameters = ['Ord','Eff','NC','I/P','T','P/S','I/S'] #headers de la tablas\n",
    "Numeric_Parameters = ['NC','I/P','T','P/S','I/S']\n",
    "Conv_order = np.array([2,2,2,3,3,3,3,2,2,3,4,4,4])#orden de convergencia de los metodos\n",
    "num_data = np.array([2,3,3,3,3,3,3,2,2,3,3,3,3])\n",
    "Eff_coeff = Conv_order**(1/num_data) #indice \\alpha^{1/d} de efeciencia computacional de los metodos"
   ]
  },
  {
   "cell_type": "code",
   "execution_count": 30,
   "id": "6b5bbdf9",
   "metadata": {
    "colab": {
     "base_uri": "https://localhost:8080/",
     "height": 423
    },
    "executionInfo": {
     "elapsed": 460070,
     "status": "error",
     "timestamp": 1687825758051,
     "user": {
      "displayName": "Kevin Marroquín",
      "userId": "11641647230183677261"
     },
     "user_tz": 300
    },
    "id": "6b5bbdf9",
    "outputId": "53bb0e22-7793-4fea-af80-d499e878e135"
   },
   "outputs": [
    {
     "name": "stderr",
     "output_type": "stream",
     "text": [
      "100%|██████████| 1048576/1048576 [00:37<00:00, 27843.23it/s]\n",
      "100%|██████████| 1048576/1048576 [00:05<00:00, 184123.39it/s]\n",
      " 59%|█████▉    | 620294/1048576 [06:24<04:25, 1612.70it/s]\n"
     ]
    },
    {
     "ename": "KeyboardInterrupt",
     "evalue": "ignored",
     "output_type": "error",
     "traceback": [
      "\u001b[0;31m---------------------------------------------------------------------------\u001b[0m",
      "\u001b[0;31mKeyboardInterrupt\u001b[0m                         Traceback (most recent call last)",
      "\u001b[0;32m<ipython-input-30-4d7e27e71b63>\u001b[0m in \u001b[0;36m<cell line: 5>\u001b[0;34m()\u001b[0m\n\u001b[1;32m      3\u001b[0m \u001b[0mNewton_results1\u001b[0m \u001b[0;34m=\u001b[0m \u001b[0mparameters_values_method\u001b[0m\u001b[0;34m(\u001b[0m\u001b[0mNewton_classicroot\u001b[0m\u001b[0;34m,\u001b[0m\u001b[0mxRb\u001b[0m\u001b[0;34m,\u001b[0m\u001b[0mxRb\u001b[0m\u001b[0;34m,\u001b[0m\u001b[0mfunc1\u001b[0m\u001b[0;34m,\u001b[0m\u001b[0mDfunc1\u001b[0m\u001b[0;34m,\u001b[0m\u001b[0mroots\u001b[0m\u001b[0;34m,\u001b[0m\u001b[0mtol\u001b[0m\u001b[0;34m,\u001b[0m\u001b[0mmaxite\u001b[0m\u001b[0;34m)\u001b[0m\u001b[0;34m\u001b[0m\u001b[0;34m\u001b[0m\u001b[0m\n\u001b[1;32m      4\u001b[0m \u001b[0mNewton_results2\u001b[0m \u001b[0;34m=\u001b[0m \u001b[0mparameters_values_method\u001b[0m\u001b[0;34m(\u001b[0m\u001b[0mNewton_classicroot\u001b[0m\u001b[0;34m,\u001b[0m\u001b[0mxRs\u001b[0m\u001b[0;34m,\u001b[0m\u001b[0myRs\u001b[0m\u001b[0;34m,\u001b[0m\u001b[0mfunc1\u001b[0m\u001b[0;34m,\u001b[0m\u001b[0mDfunc1\u001b[0m\u001b[0;34m,\u001b[0m\u001b[0mroots\u001b[0m\u001b[0;34m,\u001b[0m\u001b[0mtol\u001b[0m\u001b[0;34m,\u001b[0m\u001b[0mmaxite\u001b[0m\u001b[0;34m)\u001b[0m\u001b[0;34m\u001b[0m\u001b[0;34m\u001b[0m\u001b[0m\n\u001b[0;32m----> 5\u001b[0;31m \u001b[0mNewton_results3\u001b[0m \u001b[0;34m=\u001b[0m \u001b[0mparameters_values_method\u001b[0m\u001b[0;34m(\u001b[0m\u001b[0mNewton_classicroot\u001b[0m\u001b[0;34m,\u001b[0m\u001b[0mxRb\u001b[0m\u001b[0;34m,\u001b[0m\u001b[0mxRb\u001b[0m\u001b[0;34m,\u001b[0m\u001b[0mfunc2\u001b[0m\u001b[0;34m,\u001b[0m\u001b[0mDfunc2\u001b[0m\u001b[0;34m,\u001b[0m\u001b[0mroots\u001b[0m\u001b[0;34m,\u001b[0m\u001b[0mtol\u001b[0m\u001b[0;34m,\u001b[0m\u001b[0mmaxite\u001b[0m\u001b[0;34m)\u001b[0m\u001b[0;34m\u001b[0m\u001b[0;34m\u001b[0m\u001b[0m\n\u001b[0m\u001b[1;32m      6\u001b[0m \u001b[0mNewton_results4\u001b[0m \u001b[0;34m=\u001b[0m \u001b[0mparameters_values_method\u001b[0m\u001b[0;34m(\u001b[0m\u001b[0mNewton_classicroot\u001b[0m\u001b[0;34m,\u001b[0m\u001b[0mxRs\u001b[0m\u001b[0;34m,\u001b[0m\u001b[0myRs\u001b[0m\u001b[0;34m,\u001b[0m\u001b[0mfunc2\u001b[0m\u001b[0;34m,\u001b[0m\u001b[0mDfunc2\u001b[0m\u001b[0;34m,\u001b[0m\u001b[0mroots\u001b[0m\u001b[0;34m,\u001b[0m\u001b[0mtol\u001b[0m\u001b[0;34m,\u001b[0m\u001b[0mmaxite\u001b[0m\u001b[0;34m)\u001b[0m\u001b[0;34m\u001b[0m\u001b[0;34m\u001b[0m\u001b[0m\n",
      "\u001b[0;32m<ipython-input-23-ad2de1015acd>\u001b[0m in \u001b[0;36mparameters_values_method\u001b[0;34m(method, Domfx, Domfy, func, dfunc, roots, tol, maxite)\u001b[0m\n\u001b[1;32m     31\u001b[0m         \u001b[0;32mfor\u001b[0m \u001b[0mi\u001b[0m \u001b[0;32min\u001b[0m \u001b[0mlist\u001b[0m\u001b[0;34m(\u001b[0m\u001b[0mDomfx\u001b[0m\u001b[0;34m)\u001b[0m\u001b[0;34m:\u001b[0m\u001b[0;34m\u001b[0m\u001b[0;34m\u001b[0m\u001b[0m\n\u001b[1;32m     32\u001b[0m             \u001b[0;32mfor\u001b[0m \u001b[0mj\u001b[0m \u001b[0;32min\u001b[0m \u001b[0mlist\u001b[0m\u001b[0;34m(\u001b[0m\u001b[0mDomfy\u001b[0m\u001b[0;34m)\u001b[0m\u001b[0;34m:\u001b[0m\u001b[0;34m\u001b[0m\u001b[0;34m\u001b[0m\u001b[0m\n\u001b[0;32m---> 33\u001b[0;31m                 \u001b[0mite\u001b[0m\u001b[0;34m,\u001b[0m \u001b[0mxx\u001b[0m \u001b[0;34m=\u001b[0m \u001b[0mmethod\u001b[0m\u001b[0;34m(\u001b[0m\u001b[0mfunc\u001b[0m\u001b[0;34m,\u001b[0m\u001b[0mdfunc\u001b[0m\u001b[0;34m,\u001b[0m\u001b[0mcomplex\u001b[0m\u001b[0;34m(\u001b[0m\u001b[0mi\u001b[0m\u001b[0;34m,\u001b[0m\u001b[0mj\u001b[0m\u001b[0;34m)\u001b[0m\u001b[0;34m,\u001b[0m\u001b[0mroots\u001b[0m\u001b[0;34m[\u001b[0m\u001b[0;36m1\u001b[0m\u001b[0;34m]\u001b[0m\u001b[0;34m,\u001b[0m\u001b[0mtol\u001b[0m\u001b[0;34m,\u001b[0m\u001b[0mmaxite\u001b[0m\u001b[0;34m)\u001b[0m\u001b[0;34m\u001b[0m\u001b[0;34m\u001b[0m\u001b[0m\n\u001b[0m\u001b[1;32m     34\u001b[0m                 \u001b[0miterations\u001b[0m\u001b[0;34m.\u001b[0m\u001b[0mappend\u001b[0m\u001b[0;34m(\u001b[0m\u001b[0mite\u001b[0m\u001b[0;34m)\u001b[0m\u001b[0;34m\u001b[0m\u001b[0;34m\u001b[0m\u001b[0m\n\u001b[1;32m     35\u001b[0m                 \u001b[0mx\u001b[0m\u001b[0;34m.\u001b[0m\u001b[0mappend\u001b[0m\u001b[0;34m(\u001b[0m\u001b[0mxx\u001b[0m\u001b[0;34m)\u001b[0m\u001b[0;34m\u001b[0m\u001b[0;34m\u001b[0m\u001b[0m\n",
      "\u001b[0;32m<ipython-input-29-b3b967e0487a>\u001b[0m in \u001b[0;36mNewton_classicroot\u001b[0;34m(func, dfunc, x0, root, tol, maxite)\u001b[0m\n\u001b[1;32m     18\u001b[0m             \u001b[0;32mif\u001b[0m \u001b[0mabs\u001b[0m\u001b[0;34m(\u001b[0m\u001b[0mroot\u001b[0m \u001b[0;34m-\u001b[0m \u001b[0mx\u001b[0m\u001b[0;34m)\u001b[0m \u001b[0;34m<\u001b[0m \u001b[0mtol\u001b[0m\u001b[0;34m:\u001b[0m \u001b[0;31m# abs(func(x)) abs(root - x)\u001b[0m\u001b[0;34m\u001b[0m\u001b[0;34m\u001b[0m\u001b[0m\n\u001b[1;32m     19\u001b[0m                 \u001b[0;32mreturn\u001b[0m \u001b[0mite\u001b[0m\u001b[0;34m,\u001b[0m \u001b[0mx\u001b[0m\u001b[0;34m\u001b[0m\u001b[0;34m\u001b[0m\u001b[0m\n\u001b[0;32m---> 20\u001b[0;31m             \u001b[0mx\u001b[0m \u001b[0;34m=\u001b[0m \u001b[0mx\u001b[0m \u001b[0;34m-\u001b[0m \u001b[0mfunc\u001b[0m\u001b[0;34m(\u001b[0m\u001b[0mx\u001b[0m\u001b[0;34m)\u001b[0m\u001b[0;34m/\u001b[0m\u001b[0mdfunc\u001b[0m\u001b[0;34m(\u001b[0m\u001b[0mx\u001b[0m\u001b[0;34m)\u001b[0m\u001b[0;34m[\u001b[0m\u001b[0;36m0\u001b[0m\u001b[0;34m]\u001b[0m\u001b[0;34m\u001b[0m\u001b[0;34m\u001b[0m\u001b[0m\n\u001b[0m\u001b[1;32m     21\u001b[0m         \u001b[0;32mexcept\u001b[0m \u001b[0mException\u001b[0m\u001b[0;34m:\u001b[0m\u001b[0;34m\u001b[0m\u001b[0;34m\u001b[0m\u001b[0m\n\u001b[1;32m     22\u001b[0m             \u001b[0mite\u001b[0m \u001b[0;34m=\u001b[0m \u001b[0mmaxite\u001b[0m \u001b[0;31m# Indicamos que no hay convergencia a partir del x0\u001b[0m\u001b[0;34m\u001b[0m\u001b[0;34m\u001b[0m\u001b[0m\n",
      "\u001b[0;32m<ipython-input-8-eb9ec2b51735>\u001b[0m in \u001b[0;36mDfunc2\u001b[0;34m(z)\u001b[0m\n\u001b[1;32m     26\u001b[0m \u001b[0;34m\u001b[0m\u001b[0m\n\u001b[1;32m     27\u001b[0m \u001b[0;32mdef\u001b[0m \u001b[0mDfunc2\u001b[0m\u001b[0;34m(\u001b[0m\u001b[0mz\u001b[0m\u001b[0;34m)\u001b[0m\u001b[0;34m:\u001b[0m\u001b[0;34m\u001b[0m\u001b[0;34m\u001b[0m\u001b[0m\n\u001b[0;32m---> 28\u001b[0;31m     \u001b[0;32mreturn\u001b[0m \u001b[0;34m[\u001b[0m\u001b[0mdfunc2\u001b[0m\u001b[0;34m(\u001b[0m\u001b[0mz\u001b[0m\u001b[0;34m)\u001b[0m\u001b[0;34m,\u001b[0m\u001b[0md2func2\u001b[0m\u001b[0;34m(\u001b[0m\u001b[0mz\u001b[0m\u001b[0;34m)\u001b[0m\u001b[0;34m]\u001b[0m\u001b[0;34m\u001b[0m\u001b[0;34m\u001b[0m\u001b[0m\n\u001b[0m",
      "\u001b[0;32m<ipython-input-8-eb9ec2b51735>\u001b[0m in \u001b[0;36md2func2\u001b[0;34m(z)\u001b[0m\n\u001b[1;32m     20\u001b[0m \u001b[0;34m\u001b[0m\u001b[0m\n\u001b[1;32m     21\u001b[0m \u001b[0;32mdef\u001b[0m \u001b[0md2func2\u001b[0m\u001b[0;34m(\u001b[0m\u001b[0mz\u001b[0m\u001b[0;34m)\u001b[0m\u001b[0;34m:\u001b[0m\u001b[0;34m\u001b[0m\u001b[0;34m\u001b[0m\u001b[0m\n\u001b[0;32m---> 22\u001b[0;31m     \u001b[0;32mreturn\u001b[0m \u001b[0mexp\u001b[0m\u001b[0;34m(\u001b[0m\u001b[0msin\u001b[0m\u001b[0;34m(\u001b[0m\u001b[0mz\u001b[0m\u001b[0;34m)\u001b[0m\u001b[0;34m*\u001b[0m\u001b[0;36m0.01\u001b[0m\u001b[0;34m)\u001b[0m\u001b[0;34m*\u001b[0m\u001b[0;34m(\u001b[0m\u001b[0;34m(\u001b[0m\u001b[0;34m(\u001b[0m\u001b[0;36m0.01\u001b[0m\u001b[0;34m*\u001b[0m\u001b[0mcos\u001b[0m\u001b[0;34m(\u001b[0m\u001b[0mz\u001b[0m\u001b[0;34m)\u001b[0m\u001b[0;34m)\u001b[0m\u001b[0;34m**\u001b[0m\u001b[0;36m2\u001b[0m \u001b[0;34m-\u001b[0m \u001b[0;36m0.01\u001b[0m\u001b[0;34m*\u001b[0m\u001b[0msin\u001b[0m\u001b[0;34m(\u001b[0m\u001b[0mz\u001b[0m\u001b[0;34m)\u001b[0m\u001b[0;34m)\u001b[0m\u001b[0;34m*\u001b[0m\u001b[0mfunc1\u001b[0m\u001b[0;34m(\u001b[0m\u001b[0mz\u001b[0m\u001b[0;34m)\u001b[0m \u001b[0;34m+\u001b[0m \u001b[0;36m0.02\u001b[0m \u001b[0;34m*\u001b[0m \u001b[0mcos\u001b[0m\u001b[0;34m(\u001b[0m\u001b[0mz\u001b[0m\u001b[0;34m)\u001b[0m \u001b[0;34m*\u001b[0m \u001b[0mdfunc1\u001b[0m\u001b[0;34m(\u001b[0m\u001b[0mz\u001b[0m\u001b[0;34m)\u001b[0m \u001b[0;34m+\u001b[0m \u001b[0md2func1\u001b[0m\u001b[0;34m(\u001b[0m\u001b[0mz\u001b[0m\u001b[0;34m)\u001b[0m\u001b[0;34m)\u001b[0m\u001b[0;34m\u001b[0m\u001b[0;34m\u001b[0m\u001b[0m\n\u001b[0m\u001b[1;32m     23\u001b[0m \u001b[0;31m## Para simplificar el codigo se opta por utilizar un array con todas las derivadas que el metodo necesite de la funcion\u001b[0m\u001b[0;34m\u001b[0m\u001b[0;34m\u001b[0m\u001b[0m\n\u001b[1;32m     24\u001b[0m \u001b[0;32mdef\u001b[0m \u001b[0mDfunc1\u001b[0m\u001b[0;34m(\u001b[0m\u001b[0mz\u001b[0m\u001b[0;34m)\u001b[0m\u001b[0;34m:\u001b[0m\u001b[0;34m\u001b[0m\u001b[0;34m\u001b[0m\u001b[0m\n",
      "\u001b[0;32m<ipython-input-28-73f777e5350e>\u001b[0m in \u001b[0;36mexp\u001b[0;34m(z)\u001b[0m\n\u001b[1;32m      3\u001b[0m     \u001b[0mx\u001b[0m \u001b[0;34m=\u001b[0m \u001b[0mz\u001b[0m\u001b[0;34m.\u001b[0m\u001b[0mreal\u001b[0m\u001b[0;34m\u001b[0m\u001b[0;34m\u001b[0m\u001b[0m\n\u001b[1;32m      4\u001b[0m     \u001b[0my\u001b[0m \u001b[0;34m=\u001b[0m \u001b[0mz\u001b[0m\u001b[0;34m.\u001b[0m\u001b[0mimag\u001b[0m\u001b[0;34m\u001b[0m\u001b[0;34m\u001b[0m\u001b[0m\n\u001b[0;32m----> 5\u001b[0;31m     \u001b[0;32mreturn\u001b[0m \u001b[0;34m(\u001b[0m\u001b[0mM\u001b[0m\u001b[0;34m.\u001b[0m\u001b[0mexpm1\u001b[0m\u001b[0;34m(\u001b[0m\u001b[0mx\u001b[0m\u001b[0;34m)\u001b[0m\u001b[0;34m+\u001b[0m\u001b[0;36m1\u001b[0m\u001b[0;34m)\u001b[0m\u001b[0;34m*\u001b[0m\u001b[0;34m(\u001b[0m\u001b[0mM\u001b[0m\u001b[0;34m.\u001b[0m\u001b[0mcos\u001b[0m\u001b[0;34m(\u001b[0m\u001b[0my\u001b[0m\u001b[0;34m)\u001b[0m \u001b[0;34m+\u001b[0m \u001b[0mM\u001b[0m\u001b[0;34m.\u001b[0m\u001b[0msin\u001b[0m\u001b[0;34m(\u001b[0m\u001b[0my\u001b[0m\u001b[0;34m)\u001b[0m\u001b[0;34m*\u001b[0m\u001b[0;36m1j\u001b[0m\u001b[0;34m)\u001b[0m\u001b[0;34m\u001b[0m\u001b[0;34m\u001b[0m\u001b[0m\n\u001b[0m\u001b[1;32m      6\u001b[0m \u001b[0;31m# La funcion M.expm1() solo toma variables punto flotante y mas estable que np.exp.() en valores cercanos al cero\u001b[0m\u001b[0;34m\u001b[0m\u001b[0;34m\u001b[0m\u001b[0m\n\u001b[1;32m      7\u001b[0m \u001b[0;32mdef\u001b[0m \u001b[0msin\u001b[0m\u001b[0;34m(\u001b[0m\u001b[0mz\u001b[0m\u001b[0;34m)\u001b[0m\u001b[0;34m:\u001b[0m\u001b[0;34m\u001b[0m\u001b[0;34m\u001b[0m\u001b[0m\n",
      "\u001b[0;31mKeyboardInterrupt\u001b[0m: "
     ]
    }
   ],
   "source": [
    "# Corremos los tiempos base para obetener los parametros de referencia.\n",
    "np.set_printoptions(precision=8,suppress=True)\n",
    "Newton_results1 = parameters_values_method(Newton_classicroot,xRb,xRb,func1,Dfunc1,roots,tol,maxite)\n",
    "Newton_results2 = parameters_values_method(Newton_classicroot,xRs,yRs,func1,Dfunc1,roots,tol,maxite)\n",
    "Newton_results3 = parameters_values_method(Newton_classicroot,xRb,xRb,func2,Dfunc2,roots,tol,maxite)\n",
    "Newton_results4 = parameters_values_method(Newton_classicroot,xRs,yRs,func2,Dfunc2,roots,tol,maxite)"
   ]
  },
  {
   "cell_type": "code",
   "execution_count": 26,
   "id": "5123f414",
   "metadata": {
    "colab": {
     "base_uri": "https://localhost:8080/"
    },
    "executionInfo": {
     "elapsed": 20,
     "status": "ok",
     "timestamp": 1687823233920,
     "user": {
      "displayName": "Kevin Marroquín",
      "userId": "11641647230183677261"
     },
     "user_tz": 300
    },
    "id": "5123f414",
    "outputId": "198c18c3-291e-497c-8429-3c8710b25d95"
   },
   "outputs": [
    {
     "name": "stdout",
     "output_type": "stream",
     "text": [
      "[[     0.000015      7.598726      9.499314 110384.391157 838780.773169]\n",
      " [     0.            3.40537       4.787073 219043.227066 745923.18128 ]\n",
      " [     0.03034       7.785263    238.921868   4388.782029  34167.822617]\n",
      " [     0.            3.395221    108.222999   9689.031063  32896.399377]]\n"
     ]
    }
   ],
   "source": [
    "print(np.around([Newton_results1,Newton_results2,Newton_results3, Newton_results4], decimals=6))\n",
    "#print(Newton_results1)\n",
    "# todos los valores son importantes como referencia"
   ]
  },
  {
   "cell_type": "code",
   "execution_count": 27,
   "id": "5bfad8b6",
   "metadata": {
    "colab": {
     "base_uri": "https://localhost:8080/",
     "height": 405
    },
    "executionInfo": {
     "elapsed": 30831,
     "status": "error",
     "timestamp": 1687823264745,
     "user": {
      "displayName": "Kevin Marroquín",
      "userId": "11641647230183677261"
     },
     "user_tz": 300
    },
    "id": "5bfad8b6",
    "outputId": "78bd358b-9026-4bbc-9268-ecce2944cc2b"
   },
   "outputs": [
    {
     "name": "stderr",
     "output_type": "stream",
     "text": [
      "100%|██████████| 1048576/1048576 [00:21<00:00, 49280.97it/s]\n"
     ]
    },
    {
     "ename": "KeyboardInterrupt",
     "evalue": "ignored",
     "output_type": "error",
     "traceback": [
      "\u001b[0;31m---------------------------------------------------------------------------\u001b[0m",
      "\u001b[0;31mKeyboardInterrupt\u001b[0m                         Traceback (most recent call last)",
      "\u001b[0;32m<ipython-input-27-14afe6816a2e>\u001b[0m in \u001b[0;36m<cell line: 16>\u001b[0;34m()\u001b[0m\n\u001b[1;32m     15\u001b[0m \u001b[0mdf\u001b[0m\u001b[0;34m.\u001b[0m\u001b[0miloc\u001b[0m\u001b[0;34m[\u001b[0m\u001b[0;36m0\u001b[0m\u001b[0;34m,\u001b[0m \u001b[0;36m4\u001b[0m\u001b[0;34m:\u001b[0m\u001b[0;34m]\u001b[0m \u001b[0;34m=\u001b[0m \u001b[0mones\u001b[0m\u001b[0;34m\u001b[0m\u001b[0;34m\u001b[0m\u001b[0m\n\u001b[1;32m     16\u001b[0m \u001b[0;32mfor\u001b[0m \u001b[0mi\u001b[0m\u001b[0;34m,\u001b[0m\u001b[0mmethod\u001b[0m \u001b[0;32min\u001b[0m \u001b[0menumerate\u001b[0m\u001b[0;34m(\u001b[0m\u001b[0mMethods\u001b[0m\u001b[0;34m)\u001b[0m\u001b[0;34m:\u001b[0m\u001b[0;34m\u001b[0m\u001b[0;34m\u001b[0m\u001b[0m\n\u001b[0;32m---> 17\u001b[0;31m     \u001b[0mResults\u001b[0m \u001b[0;34m=\u001b[0m \u001b[0mparameters_values_method\u001b[0m\u001b[0;34m(\u001b[0m\u001b[0mmethod\u001b[0m\u001b[0;34m,\u001b[0m\u001b[0mxRb\u001b[0m\u001b[0;34m,\u001b[0m\u001b[0mxRb\u001b[0m\u001b[0;34m,\u001b[0m\u001b[0mfunc1\u001b[0m\u001b[0;34m,\u001b[0m\u001b[0mDfunc1\u001b[0m\u001b[0;34m,\u001b[0m\u001b[0mroots\u001b[0m\u001b[0;34m,\u001b[0m\u001b[0mtol\u001b[0m\u001b[0;34m,\u001b[0m\u001b[0mmaxite\u001b[0m\u001b[0;34m)\u001b[0m\u001b[0;34m\u001b[0m\u001b[0;34m\u001b[0m\u001b[0m\n\u001b[0m\u001b[1;32m     18\u001b[0m     \u001b[0mdf\u001b[0m\u001b[0;34m.\u001b[0m\u001b[0miloc\u001b[0m\u001b[0;34m[\u001b[0m\u001b[0mi\u001b[0m\u001b[0;34m+\u001b[0m\u001b[0;36m1\u001b[0m\u001b[0;34m,\u001b[0m \u001b[0;34m[\u001b[0m\u001b[0;36m2\u001b[0m\u001b[0;34m,\u001b[0m\u001b[0;36m3\u001b[0m\u001b[0;34m]\u001b[0m\u001b[0;34m]\u001b[0m \u001b[0;34m=\u001b[0m \u001b[0mResults\u001b[0m\u001b[0;34m[\u001b[0m\u001b[0;36m0\u001b[0m\u001b[0;34m:\u001b[0m\u001b[0;36m2\u001b[0m\u001b[0;34m]\u001b[0m\u001b[0;34m\u001b[0m\u001b[0;34m\u001b[0m\u001b[0m\n\u001b[1;32m     19\u001b[0m     \u001b[0mdf\u001b[0m\u001b[0;34m.\u001b[0m\u001b[0miloc\u001b[0m\u001b[0;34m[\u001b[0m\u001b[0mi\u001b[0m\u001b[0;34m+\u001b[0m\u001b[0;36m1\u001b[0m\u001b[0;34m,\u001b[0m \u001b[0;36m4\u001b[0m\u001b[0;34m:\u001b[0m\u001b[0;34m]\u001b[0m \u001b[0;34m=\u001b[0m \u001b[0mResults\u001b[0m\u001b[0;34m[\u001b[0m\u001b[0;36m2\u001b[0m\u001b[0;34m:\u001b[0m\u001b[0;34m]\u001b[0m\u001b[0;34m/\u001b[0m\u001b[0mNewton_results1\u001b[0m\u001b[0;34m[\u001b[0m\u001b[0;36m2\u001b[0m\u001b[0;34m:\u001b[0m\u001b[0;34m]\u001b[0m\u001b[0;34m\u001b[0m\u001b[0;34m\u001b[0m\u001b[0m\n",
      "\u001b[0;32m<ipython-input-23-ad2de1015acd>\u001b[0m in \u001b[0;36mparameters_values_method\u001b[0;34m(method, Domfx, Domfy, func, dfunc, roots, tol, maxite)\u001b[0m\n\u001b[1;32m     40\u001b[0m     \u001b[0mtotal_iterations\u001b[0m \u001b[0;34m=\u001b[0m \u001b[0mmatrix_elem_sum\u001b[0m\u001b[0;34m(\u001b[0m\u001b[0miterations\u001b[0m\u001b[0;34m)\u001b[0m\u001b[0;34m\u001b[0m\u001b[0;34m\u001b[0m\u001b[0m\n\u001b[1;32m     41\u001b[0m     \u001b[0mT\u001b[0m \u001b[0;34m=\u001b[0m \u001b[0mend\u001b[0m \u001b[0;34m-\u001b[0m \u001b[0mstart\u001b[0m\u001b[0;34m\u001b[0m\u001b[0;34m\u001b[0m\u001b[0m\n\u001b[0;32m---> 42\u001b[0;31m     \u001b[0mNC\u001b[0m \u001b[0;34m=\u001b[0m \u001b[0;34m(\u001b[0m\u001b[0mcount_not_conv_points\u001b[0m\u001b[0;34m(\u001b[0m\u001b[0mx\u001b[0m\u001b[0;34m,\u001b[0m\u001b[0mroots\u001b[0m\u001b[0;34m)\u001b[0m\u001b[0;34m)\u001b[0m\u001b[0;34m/\u001b[0m\u001b[0mtotal_points\u001b[0m\u001b[0;34m\u001b[0m\u001b[0;34m\u001b[0m\u001b[0m\n\u001b[0m\u001b[1;32m     43\u001b[0m     \u001b[0mIP\u001b[0m \u001b[0;34m=\u001b[0m \u001b[0mtotal_iterations\u001b[0m\u001b[0;34m/\u001b[0m\u001b[0mtotal_points\u001b[0m\u001b[0;34m\u001b[0m\u001b[0;34m\u001b[0m\u001b[0m\n\u001b[1;32m     44\u001b[0m     \u001b[0mPS\u001b[0m \u001b[0;34m=\u001b[0m \u001b[0mtotal_points\u001b[0m\u001b[0;34m/\u001b[0m\u001b[0mT\u001b[0m\u001b[0;34m\u001b[0m\u001b[0;34m\u001b[0m\u001b[0m\n",
      "\u001b[0;32m<ipython-input-7-73f777e5350e>\u001b[0m in \u001b[0;36mcount_not_conv_points\u001b[0;34m(matrix, roots)\u001b[0m\n\u001b[1;32m     28\u001b[0m     \u001b[0mmatrix\u001b[0m \u001b[0;34m=\u001b[0m \u001b[0mmatrix\u001b[0m\u001b[0;34m.\u001b[0m\u001b[0mflatten\u001b[0m\u001b[0;34m(\u001b[0m\u001b[0;34m)\u001b[0m\u001b[0;34m\u001b[0m\u001b[0;34m\u001b[0m\u001b[0m\n\u001b[1;32m     29\u001b[0m     \u001b[0;32mfor\u001b[0m \u001b[0mentry\u001b[0m \u001b[0;32min\u001b[0m \u001b[0mlist\u001b[0m\u001b[0;34m(\u001b[0m\u001b[0mmatrix\u001b[0m\u001b[0;34m)\u001b[0m\u001b[0;34m:\u001b[0m\u001b[0;34m\u001b[0m\u001b[0;34m\u001b[0m\u001b[0m\n\u001b[0;32m---> 30\u001b[0;31m         \u001b[0;32mif\u001b[0m \u001b[0;34m(\u001b[0m\u001b[0mabs\u001b[0m\u001b[0;34m(\u001b[0m\u001b[0mentry\u001b[0m\u001b[0;34m*\u001b[0m\u001b[0mnp\u001b[0m\u001b[0;34m.\u001b[0m\u001b[0mones\u001b[0m\u001b[0;34m(\u001b[0m\u001b[0mroots\u001b[0m\u001b[0;34m.\u001b[0m\u001b[0msize\u001b[0m\u001b[0;34m)\u001b[0m\u001b[0;34m-\u001b[0m\u001b[0mroots\u001b[0m\u001b[0;34m)\u001b[0m \u001b[0;34m>\u001b[0m \u001b[0;36m1e-4\u001b[0m\u001b[0;34m)\u001b[0m\u001b[0;34m.\u001b[0m\u001b[0mall\u001b[0m\u001b[0;34m(\u001b[0m\u001b[0;34m)\u001b[0m\u001b[0;34m:\u001b[0m\u001b[0;34m\u001b[0m\u001b[0;34m\u001b[0m\u001b[0m\n\u001b[0m\u001b[1;32m     31\u001b[0m             \u001b[0mcount\u001b[0m \u001b[0;34m+=\u001b[0m \u001b[0;36m1\u001b[0m\u001b[0;34m\u001b[0m\u001b[0;34m\u001b[0m\u001b[0m\n\u001b[1;32m     32\u001b[0m     \u001b[0;32mreturn\u001b[0m \u001b[0mcount\u001b[0m\u001b[0;34m\u001b[0m\u001b[0;34m\u001b[0m\u001b[0m\n",
      "\u001b[0;32m/usr/local/lib/python3.10/dist-packages/numpy/core/numeric.py\u001b[0m in \u001b[0;36mones\u001b[0;34m(shape, dtype, order, like)\u001b[0m\n\u001b[1;32m    202\u001b[0m         \u001b[0;32mreturn\u001b[0m \u001b[0m_ones_with_like\u001b[0m\u001b[0;34m(\u001b[0m\u001b[0mshape\u001b[0m\u001b[0;34m,\u001b[0m \u001b[0mdtype\u001b[0m\u001b[0;34m=\u001b[0m\u001b[0mdtype\u001b[0m\u001b[0;34m,\u001b[0m \u001b[0morder\u001b[0m\u001b[0;34m=\u001b[0m\u001b[0morder\u001b[0m\u001b[0;34m,\u001b[0m \u001b[0mlike\u001b[0m\u001b[0;34m=\u001b[0m\u001b[0mlike\u001b[0m\u001b[0;34m)\u001b[0m\u001b[0;34m\u001b[0m\u001b[0;34m\u001b[0m\u001b[0m\n\u001b[1;32m    203\u001b[0m \u001b[0;34m\u001b[0m\u001b[0m\n\u001b[0;32m--> 204\u001b[0;31m     \u001b[0ma\u001b[0m \u001b[0;34m=\u001b[0m \u001b[0mempty\u001b[0m\u001b[0;34m(\u001b[0m\u001b[0mshape\u001b[0m\u001b[0;34m,\u001b[0m \u001b[0mdtype\u001b[0m\u001b[0;34m,\u001b[0m \u001b[0morder\u001b[0m\u001b[0;34m)\u001b[0m\u001b[0;34m\u001b[0m\u001b[0;34m\u001b[0m\u001b[0m\n\u001b[0m\u001b[1;32m    205\u001b[0m     \u001b[0mmultiarray\u001b[0m\u001b[0;34m.\u001b[0m\u001b[0mcopyto\u001b[0m\u001b[0;34m(\u001b[0m\u001b[0ma\u001b[0m\u001b[0;34m,\u001b[0m \u001b[0;36m1\u001b[0m\u001b[0;34m,\u001b[0m \u001b[0mcasting\u001b[0m\u001b[0;34m=\u001b[0m\u001b[0;34m'unsafe'\u001b[0m\u001b[0;34m)\u001b[0m\u001b[0;34m\u001b[0m\u001b[0;34m\u001b[0m\u001b[0m\n\u001b[1;32m    206\u001b[0m     \u001b[0;32mreturn\u001b[0m \u001b[0ma\u001b[0m\u001b[0;34m\u001b[0m\u001b[0;34m\u001b[0m\u001b[0m\n",
      "\u001b[0;31mKeyboardInterrupt\u001b[0m: "
     ]
    }
   ],
   "source": [
    "#Tabla 1\n",
    "data = {\n",
    "    'Ord': Conv_order,\n",
    "    'Eff': Eff_coeff\n",
    "}\n",
    "\n",
    "index_labels = Methods_st # ['Nw','NwM','CaWh','DcaWh','Ha','Ch','CaN/sH','Stir','Steff','Mid','Tr-Os','Ja','IfJa']\n",
    "column_labels = Parameters # ['Ord','Eff','NC','1/P','T','P/S','1/S']\n",
    "ones = np.ones(3)\n",
    "df = pd.DataFrame(data, index=index_labels, columns=column_labels)\n",
    "# Convertimos los valores a tipos numéricos\n",
    "df = df.astype(float)\n",
    "# Colocamos los datos obtenidos\n",
    "df.iloc[0, [2,3]] = Newton_results1[0:2]\n",
    "df.iloc[0, 4:] = ones\n",
    "for i,method in enumerate(Methods):\n",
    "    Results = parameters_values_method(method,xRb,xRb,func1,Dfunc1,roots,tol,maxite)\n",
    "    df.iloc[i+1, [2,3]] = Results[0:2]\n",
    "    df.iloc[i+1, 4:] = Results[2:]/Newton_results1[2:]\n",
    "# Imprimimos la tabla 1\n",
    "print(df.round(6))\n",
    "#Pasamos la tabla a formato latex\n",
    "tabla_latex = df.to_latex(index=True)\n",
    "print(tabla_latex)"
   ]
  },
  {
   "cell_type": "code",
   "execution_count": null,
   "id": "960a415b",
   "metadata": {
    "executionInfo": {
     "elapsed": 11,
     "status": "aborted",
     "timestamp": 1687823264747,
     "user": {
      "displayName": "Kevin Marroquín",
      "userId": "11641647230183677261"
     },
     "user_tz": 300
    },
    "id": "960a415b"
   },
   "outputs": [],
   "source": [
    "#Tabla 2\n",
    "data = {\n",
    "    'Ord': Conv_order,\n",
    "    'Eff': Eff_coeff\n",
    "}\n",
    "\n",
    "index_labels = Methods_st # ['Nw','NwM','CaWh','DcaWh','Ha','Ch','CaN/sH','Stir','Steff','Mid','Tr-Os','Ja','IfJa']\n",
    "column_labels = Parameters # ['Ord','Eff','NC','1/P','T','P/S','1/S']\n",
    "ones = np.ones(3)\n",
    "df = pd.DataFrame(data, index=index_labels, columns=column_labels)\n",
    "# Convertimos los valores a tipos numéricos\n",
    "df = df.astype(float)\n",
    "# Colocamos los datos obtenidos\n",
    "df.iloc[0, [2,3]] = Newton_results2[0:2]\n",
    "df.iloc[0, 4:] = ones\n",
    "for i,method in enumerate(Methods):\n",
    "    Results = parameters_values_method(method,xRs,yRs,func1,Dfunc1,roots,tol,maxite)\n",
    "    df.iloc[i+1, [2,3]] = Results[0:2]\n",
    "    df.iloc[i+1, 4:] = Results[2:]/Newton_results2[2:]\n",
    "# Imprimimos la tabla 1\n",
    "print(df.round(6))\n",
    "#Pasamos la tabla a formato latex\n",
    "tabla_latex = df.to_latex(index=True)\n",
    "print(tabla_latex)"
   ]
  },
  {
   "cell_type": "code",
   "execution_count": null,
   "id": "87d46a7a",
   "metadata": {
    "executionInfo": {
     "elapsed": 11,
     "status": "aborted",
     "timestamp": 1687823264748,
     "user": {
      "displayName": "Kevin Marroquín",
      "userId": "11641647230183677261"
     },
     "user_tz": 300
    },
    "id": "87d46a7a"
   },
   "outputs": [],
   "source": [
    "#Tabla 3\n",
    "data = {\n",
    "    'Ord': Conv_order,\n",
    "    'Eff': Eff_coeff\n",
    "}\n",
    "\n",
    "index_labels = Methods_st # ['Nw','NwM','CaWh','DcaWh','Ha','Ch','CaN/sH','Stir','Steff','Mid','Tr-Os','Ja','IfJa']\n",
    "column_labels = Parameters # ['Ord','Eff','NC','1/P','T','P/S','1/S']\n",
    "ones = np.ones(3)\n",
    "df = pd.DataFrame(data, index=index_labels, columns=column_labels)\n",
    "# Convertimos los valores a tipos numéricos\n",
    "df = df.astype(float)\n",
    "# Colocamos los datos obtenidos\n",
    "df.iloc[0, [2,3]] = Newton_results3[0:2]\n",
    "df.iloc[0, 4:] = ones\n",
    "for i,method in enumerate(Methods):\n",
    "    Results = parameters_values_method(method,xRb,xRb,func2,Dfunc2,roots,tol,maxite)\n",
    "    df.iloc[i+1, [2,3]] = Results[0:2]\n",
    "    df.iloc[i+1, 4:] = Results[2:]/Newton_results3[2:]\n",
    "# Imprimimos la tabla 1\n",
    "print(df.round(6))\n",
    "#Pasamos la tabla a formato latex\n",
    "tabla_latex = df.to_latex(index=True)\n",
    "print(tabla_latex)"
   ]
  },
  {
   "cell_type": "code",
   "execution_count": null,
   "id": "84ce2ac8",
   "metadata": {
    "executionInfo": {
     "elapsed": 12,
     "status": "aborted",
     "timestamp": 1687823264749,
     "user": {
      "displayName": "Kevin Marroquín",
      "userId": "11641647230183677261"
     },
     "user_tz": 300
    },
    "id": "84ce2ac8"
   },
   "outputs": [],
   "source": [
    "#Tabla 4\n",
    "data = {\n",
    "    'Ord': Conv_order,\n",
    "    'Eff': Eff_coeff\n",
    "}\n",
    "\n",
    "index_labels = Methods_st # ['Nw','NwM','CaWh','DcaWh','Ha','Ch','CaN/sH','Stir','Steff','Mid','Tr-Os','Ja','IfJa']\n",
    "column_labels = Parameters # ['Ord','Eff','NC','1/P','T','P/S','1/S']\n",
    "ones = np.ones(3)\n",
    "df = pd.DataFrame(data, index=index_labels, columns=column_labels)\n",
    "# Convertimos los valores a tipos numéricos\n",
    "df = df.astype(float)\n",
    "# Colocamos los datos obtenidos\n",
    "df.iloc[0, [2,3]] = Newton_results4[0:2]\n",
    "df.iloc[0, 4:] = ones\n",
    "for i,method in enumerate(Methods):\n",
    "    Results = parameters_values_method(method,xRs,yRs,func2,Dfunc2,roots,tol,maxite)\n",
    "    df.iloc[i+1, [2,3]] = Results[0:2]\n",
    "    df.iloc[i+1, 4:] = Results[2:]/Newton_results4[2:]\n",
    "# Imprimimos la tabla 1\n",
    "print(df.round(6))\n",
    "#Pasamos la tabla a formato latex\n",
    "tabla_latex = df.to_latex(index=True)\n",
    "print(tabla_latex)"
   ]
  }
 ],
 "metadata": {
  "colab": {
   "collapsed_sections": [
    "3a78bc47",
    "07fb44b5",
    "88229df6"
   ],
   "provenance": []
  },
  "kernelspec": {
   "display_name": "Python 3 (ipykernel)",
   "language": "python",
   "name": "python3"
  },
  "language_info": {
   "codemirror_mode": {
    "name": "ipython",
    "version": 3
   },
   "file_extension": ".py",
   "mimetype": "text/x-python",
   "name": "python",
   "nbconvert_exporter": "python",
   "pygments_lexer": "ipython3",
   "version": "3.11.7"
  }
 },
 "nbformat": 4,
 "nbformat_minor": 5
}
