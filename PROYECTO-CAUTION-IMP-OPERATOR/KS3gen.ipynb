{
 "cells": [
  {
   "cell_type": "markdown",
   "metadata": {},
   "source": [
    "# CAUTION IMPROVEMENT OPERATORS "
   ]
  },
  {
   "cell_type": "code",
   "execution_count": null,
   "metadata": {},
   "outputs": [],
   "source": [
    "import numpy as np"
   ]
  },
  {
   "cell_type": "markdown",
   "metadata": {},
   "source": [
    "## Logic gen functions "
   ]
  },
  {
   "cell_type": "code",
   "execution_count": 115,
   "metadata": {},
   "outputs": [],
   "source": [
    "def id(x):\n",
    "    return x\n",
    "def neg(x):\n",
    "    y = []\n",
    "    for i in range(len(x)):\n",
    "        y.append(1-x[i])\n",
    "    return y\n",
    "\n",
    "def vee(x,y):\n",
    "    return max(x,y)\n",
    "\n",
    "def wedge(x,y):\n",
    "    return neg(min(neg(x), neg(y)))\n",
    "\n",
    "def d1(x):\n",
    "    y = []\n",
    "    for i in range(len(x)):\n",
    "        y.append(max(0,x[i]-0.5))\n",
    "    return y \n",
    "\n",
    "def d2(x):\n",
    "    y = []\n",
    "    for i in range(len(x)):\n",
    "        if x[i] == 0 or x[i] == 0.5:\n",
    "            y.append(0)\n",
    "        else:\n",
    "            y.append(1)\n",
    "    return y "
   ]
  },
  {
   "cell_type": "markdown",
   "metadata": {},
   "source": [
    "## Test functions and representation functions"
   ]
  },
  {
   "cell_type": "code",
   "execution_count": null,
   "metadata": {},
   "outputs": [],
   "source": [
    "def rotation(X):  \n",
    "    X = np.rot90(np.array(X),k=-1)\n",
    "    return X\n",
    "    \n",
    "\n",
    "def matrix_ope(f,x,y):\n",
    "    z = []\n",
    "    rz = []\n",
    "    for i in range(len(x)):\n",
    "        for j in range(len(y)):\n",
    "            rz.append(f(x[i],y[j]))\n",
    "        z.append(rz)\n",
    "        rz = []\n",
    "    return z"
   ]
  },
  {
   "cell_type": "markdown",
   "metadata": {},
   "source": [
    "## Formulae KS3"
   ]
  },
  {
   "cell_type": "code",
   "execution_count": 127,
   "metadata": {},
   "outputs": [
    {
     "name": "stdout",
     "output_type": "stream",
     "text": [
      "[0, 0.5, 1]\n",
      "[1, 0.5, 0]\n",
      "[0, 0, 0.5]\n",
      "[0, 0, 1]\n",
      "[1, 0.5, 0]\n",
      "[0, 0.5, 1]\n",
      "[1, 1, 0.5]\n",
      "[1, 1, 0]\n",
      "[0, 0, 0.5]\n",
      "[0.5, 0, 0]\n",
      "[0, 0, 0]\n",
      "[0, 0, 0.5]\n",
      "[0, 0, 1]\n",
      "[1, 0, 0]\n",
      "[0, 0, 0]\n",
      "[0, 0, 1]\n"
     ]
    }
   ],
   "source": [
    "gen_functions_labels = ['Id','~', '\\u2588_1','\\u2588_2']\n",
    "gen_functions_names = [neg, vee, d1, d2]\n",
    "func_dict = {'Id': id, '~': neg, 'vee': vee, '\\u2588_1': d1, '\\u2588_2': d2 }\n",
    "\n",
    "def increaser(slots, labels_list):\n",
    "    carry = 1  # Empezamos con el carry de 1 porque estamos incrementando en 1\n",
    "    for i in range(len(slots)):\n",
    "        if carry == 0:\n",
    "            break\n",
    "        if slots[i] == labels_list[-1]:\n",
    "            slots[i] = labels_list[0]\n",
    "            carry = 1\n",
    "        else:\n",
    "            index = labels_list.index(slots[i])\n",
    "            slots[i] = labels_list[index+1]\n",
    "            carry = 0\n",
    "    return slots\n",
    "\n",
    "def prop_func_gen_list(labels_list, n_slots):\n",
    "    func_id = [labels_list[0]]*n_slots\n",
    "    n = len(labels_list)**n_slots # porque comienza desde 0 el numero total\n",
    "    func_id_list = []\n",
    "    for _ in range(n):\n",
    "        func_id_list.append(func_id[:])\n",
    "        func_id = increaser(func_id,labels_list)[:]\n",
    "    return func_id_list\n",
    "\n",
    "\n",
    "def prop_func(func_id, x,func_dict = func_dict):\n",
    "    for func_label in func_id:\n",
    "        x = func_dict[func_label](x)[:]\n",
    "    return x\n",
    "\n",
    "func_list = prop_func_gen_list(gen_functions_labels,2)\n",
    "# for x in X:\n",
    "#     print(x)\n",
    "q  = [0,0.5,1]\n",
    "for func_id in func_list:\n",
    "    print(prop_func(func_id,q))\n",
    "    "
   ]
  },
  {
   "cell_type": "code",
   "execution_count": null,
   "metadata": {},
   "outputs": [],
   "source": [
    "a = [0,0.5,1]\n",
    "X = np.array(matrix_ope(vee,a,a))\n",
    "print(X)\n",
    "print(np.array(rotation(X)))\n",
    "print()\n",
    "#Y = np.array(rotation(matrix_ope(vee,a,a)))\n",
    "#print(Y)\n",
    "#print(d2(a))"
   ]
  },
  {
   "cell_type": "code",
   "execution_count": 57,
   "metadata": {},
   "outputs": [
    {
     "name": "stdout",
     "output_type": "stream",
     "text": [
      "█\n",
      "[None, None, None, None, None]\n",
      "[0, 0, 0, 0]\n",
      "[1, 0, 0, 0]\n",
      "[0, 1, 0, 0]\n",
      "[1, 1, 0, 0]\n",
      "[0, 0, 1, 0]\n",
      "[1, 0, 1, 0]\n",
      "[0, 1, 1, 0]\n",
      "[1, 1, 1, 0]\n",
      "[0, 0, 0, 1]\n",
      "[1, 0, 0, 1]\n",
      "[0, 1, 0, 1]\n",
      "[1, 1, 0, 1]\n",
      "[0, 0, 1, 1]\n",
      "[1, 0, 1, 1]\n",
      "[0, 1, 1, 1]\n",
      "[1, 1, 1, 1]\n"
     ]
    }
   ],
   "source": [
    "print('\\u2588')\n",
    "print(5*[None])\n",
    "def incrementar_binario(bin_list):\n",
    "    carry = 1  # Empezamos con el carry de 1 porque estamos incrementando en 1\n",
    "    for i in range(len(bin_list)):\n",
    "        if carry == 0:\n",
    "            break\n",
    "        if bin_list[i] == 0:\n",
    "            bin_list[i] = 1\n",
    "            carry = 0\n",
    "        else:\n",
    "            bin_list[i] = 0\n",
    "            carry = 1\n",
    "    return bin_list\n",
    "\n",
    "def contador_binario(limite):\n",
    "    bin_list = [0]*4\n",
    "    \n",
    "    for _ in range(limite):\n",
    "        print(bin_list)\n",
    "        bin_list = incrementar_binario(bin_list)\n",
    "\n",
    "contador_binario()"
   ]
  },
  {
   "cell_type": "code",
   "execution_count": 70,
   "metadata": {},
   "outputs": [
    {
     "name": "stdout",
     "output_type": "stream",
     "text": [
      "[0, 0, 0]\n",
      "[5, 0, 0]\n",
      "[6, 0, 0]\n",
      "[0, 5, 0]\n",
      "[5, 5, 0]\n",
      "[6, 5, 0]\n",
      "[0, 6, 0]\n",
      "[5, 6, 0]\n",
      "[6, 6, 0]\n",
      "[0, 0, 5]\n",
      "[5, 0, 5]\n",
      "[6, 0, 5]\n",
      "[0, 5, 5]\n",
      "[5, 5, 5]\n",
      "[6, 5, 5]\n",
      "[0, 6, 5]\n",
      "[5, 6, 5]\n",
      "[6, 6, 5]\n",
      "[0, 0, 6]\n",
      "[5, 0, 6]\n",
      "[6, 0, 6]\n",
      "[0, 5, 6]\n",
      "[5, 5, 6]\n",
      "[6, 5, 6]\n",
      "[0, 6, 6]\n",
      "[5, 6, 6]\n",
      "[6, 6, 6]\n"
     ]
    }
   ],
   "source": [
    "def incresing_list(slots, labels_list):\n",
    "    carry = 1  # Empezamos con el carry de 1 porque estamos incrementando en 1\n",
    "    for i in range(len(labels_list)):\n",
    "        if carry == 0:\n",
    "            break\n",
    "        if slots[i] == labels_list[-1]:\n",
    "            slots[i] = labels_list[0]\n",
    "            carry = 1\n",
    "        else:\n",
    "            index = labels_list.index(slots[i])\n",
    "            slots[i] = labels_list[index+1]\n",
    "            carry = 0\n",
    "    return slots\n",
    "\n",
    "def contador_binario(limite =3):\n",
    "    bin_list = [0]*3\n",
    "    labels_list = [0,5,6]\n",
    "    \n",
    "    for _ in range(limite):\n",
    "        print(bin_list)\n",
    "        bin_list = incresing_list(bin_list, labels_list)\n",
    "\n",
    "contador_binario(27)"
   ]
  }
 ],
 "metadata": {
  "kernelspec": {
   "display_name": "base",
   "language": "python",
   "name": "python3"
  },
  "language_info": {
   "codemirror_mode": {
    "name": "ipython",
    "version": 3
   },
   "file_extension": ".py",
   "mimetype": "text/x-python",
   "name": "python",
   "nbconvert_exporter": "python",
   "pygments_lexer": "ipython3",
   "version": "3.11.7"
  }
 },
 "nbformat": 4,
 "nbformat_minor": 2
}
