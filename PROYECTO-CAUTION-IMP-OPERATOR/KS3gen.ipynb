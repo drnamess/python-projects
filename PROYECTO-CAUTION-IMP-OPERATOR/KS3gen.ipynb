{
 "cells": [
  {
   "cell_type": "markdown",
   "metadata": {},
   "source": [
    "# CAUTION IMPROVEMENT OPERATORS "
   ]
  },
  {
   "cell_type": "code",
   "execution_count": 4,
   "metadata": {},
   "outputs": [],
   "source": [
    "import numpy as np"
   ]
  },
  {
   "cell_type": "markdown",
   "metadata": {},
   "source": [
    "## Logic gen functions "
   ]
  },
  {
   "cell_type": "code",
   "execution_count": 5,
   "metadata": {},
   "outputs": [],
   "source": [
    "def id(x):\n",
    "    return x\n",
    "def neg(x):\n",
    "    y = []\n",
    "    for i in range(1,len(x)+1):\n",
    "        y.append(x[-i])\n",
    "    return y\n",
    "\n",
    "def vee(x,y):\n",
    "    return max(x,y)\n",
    "\n",
    "def wedge(x,y):\n",
    "    return neg(min(neg(x), neg(y)))\n",
    "\n",
    "def d1(x):\n",
    "    y = []\n",
    "    for i in range(len(x)):\n",
    "        y.append(max(0,x[i]-0.5))\n",
    "    return y \n",
    "\n",
    "def d2(x):\n",
    "    y = []\n",
    "    for i in range(len(x)):\n",
    "        if x[i] == 0 or x[i] == 0.5:\n",
    "            y.append(0)\n",
    "        else:\n",
    "            y.append(1)\n",
    "    return y "
   ]
  },
  {
   "cell_type": "markdown",
   "metadata": {},
   "source": [
    "## Test functions and representation functions"
   ]
  },
  {
   "cell_type": "code",
   "execution_count": 6,
   "metadata": {},
   "outputs": [],
   "source": [
    "def rotation(X):  \n",
    "    X = np.rot90(np.array(X),k=-1)\n",
    "    return X\n",
    "    \n",
    "\n",
    "def matrix_ope(f,x,y):\n",
    "    z = []\n",
    "    rz = []\n",
    "    for i in range(len(x)):\n",
    "        for j in range(len(y)):\n",
    "            rz.append(f(x[i],y[j]))\n",
    "        z.append(rz)\n",
    "        rz = []\n",
    "    return z"
   ]
  },
  {
   "cell_type": "markdown",
   "metadata": {},
   "source": [
    "## Formulae KS3"
   ]
  },
  {
   "cell_type": "code",
   "execution_count": 7,
   "metadata": {},
   "outputs": [
    {
     "ename": "KeyboardInterrupt",
     "evalue": "",
     "output_type": "error",
     "traceback": [
      "\u001b[1;31m---------------------------------------------------------------------------\u001b[0m",
      "\u001b[1;31mKeyboardInterrupt\u001b[0m                         Traceback (most recent call last)",
      "Cell \u001b[1;32mIn[7], line 13\u001b[0m\n\u001b[0;32m      9\u001b[0m                 func_labels_list\u001b[38;5;241m.\u001b[39mappend(label_pivot \u001b[38;5;241m+\u001b[39m \u001b[38;5;124m'\u001b[39m\u001b[38;5;124m \u001b[39m\u001b[38;5;124m'\u001b[39m \u001b[38;5;241m+\u001b[39m label)\n\u001b[0;32m     11\u001b[0m     \u001b[38;5;28;01mreturn\u001b[39;00m func_labels_list\n\u001b[1;32m---> 13\u001b[0m \u001b[38;5;28mprint\u001b[39m(constructor_pro_func([\u001b[38;5;124m'\u001b[39m\u001b[38;5;124mId\u001b[39m\u001b[38;5;124m'\u001b[39m,\u001b[38;5;124m'\u001b[39m\u001b[38;5;124mneg\u001b[39m\u001b[38;5;124m'\u001b[39m],\u001b[38;5;241m1\u001b[39m))\n",
      "Cell \u001b[1;32mIn[7], line 9\u001b[0m, in \u001b[0;36mconstructor_pro_func\u001b[1;34m(labels_list, slots)\u001b[0m\n\u001b[0;32m      7\u001b[0m     \u001b[38;5;28;01mfor\u001b[39;00m label_pivot \u001b[38;5;129;01min\u001b[39;00m labels_list:\n\u001b[0;32m      8\u001b[0m         \u001b[38;5;28;01mfor\u001b[39;00m label \u001b[38;5;129;01min\u001b[39;00m func_labels_list:\n\u001b[1;32m----> 9\u001b[0m             func_labels_list\u001b[38;5;241m.\u001b[39mappend(label_pivot \u001b[38;5;241m+\u001b[39m \u001b[38;5;124m'\u001b[39m\u001b[38;5;124m \u001b[39m\u001b[38;5;124m'\u001b[39m \u001b[38;5;241m+\u001b[39m label)\n\u001b[0;32m     11\u001b[0m \u001b[38;5;28;01mreturn\u001b[39;00m func_labels_list\n",
      "\u001b[1;31mKeyboardInterrupt\u001b[0m: "
     ]
    }
   ],
   "source": [
    "gen_functions_labels = ['Id','neg', '\\u2588_1', '\\u2588_2']\n",
    "gen_functions_names = [neg, vee, d1, d2]\n",
    "\n",
    "def constructor_pro_func(labels_list, slots):\n",
    "    func_labels_list = labels_list\n",
    "    for _ in range(slots):\n",
    "        for label_pivot in labels_list:\n",
    "            for label in func_labels_list:\n",
    "                func_labels_list.append(label_pivot + ' ' + label)\n",
    "\n",
    "    return func_labels_list\n",
    "\n",
    "print(constructor_pro_func(['Id','neg'],1))"
   ]
  },
  {
   "cell_type": "code",
   "execution_count": null,
   "metadata": {},
   "outputs": [
    {
     "name": "stdout",
     "output_type": "stream",
     "text": [
      "[[0.  0.5 1. ]\n",
      " [0.5 0.5 1. ]\n",
      " [1.  1.  1. ]]\n",
      "[[1.  0.5 0. ]\n",
      " [1.  0.5 0.5]\n",
      " [1.  1.  1. ]]\n",
      "\n"
     ]
    }
   ],
   "source": [
    "a = [0,0.5,1]\n",
    "X = np.array(matrix_ope(vee,a,a))\n",
    "print(X)\n",
    "print(np.array(rotation(X)))\n",
    "print()\n",
    "#Y = np.array(rotation(matrix_ope(vee,a,a)))\n",
    "#print(Y)\n",
    "#print(d2(a))"
   ]
  },
  {
   "cell_type": "code",
   "execution_count": null,
   "metadata": {},
   "outputs": [
    {
     "name": "stdout",
     "output_type": "stream",
     "text": [
      "█\n"
     ]
    }
   ],
   "source": [
    "print('\\u2588')"
   ]
  }
 ],
 "metadata": {
  "kernelspec": {
   "display_name": "base",
   "language": "python",
   "name": "python3"
  },
  "language_info": {
   "codemirror_mode": {
    "name": "ipython",
    "version": 3
   },
   "file_extension": ".py",
   "mimetype": "text/x-python",
   "name": "python",
   "nbconvert_exporter": "python",
   "pygments_lexer": "ipython3",
   "version": "3.11.7"
  }
 },
 "nbformat": 4,
 "nbformat_minor": 2
}
